{
  "cells": [
    {
      "cell_type": "markdown",
      "metadata": {
        "id": "view-in-github",
        "colab_type": "text"
      },
      "source": [
        "<a href=\"https://colab.research.google.com/github/statisthong/Student-Performance/blob/main/Student%20Performance%20Analysis%20and%20Classification.ipynb\" target=\"_parent\"><img src=\"https://colab.research.google.com/assets/colab-badge.svg\" alt=\"Open In Colab\"/></a>"
      ]
    },
    {
      "cell_type": "markdown",
      "metadata": {
        "id": "BKQONklaaKUM"
      },
      "source": [
        "![1](https://user-images.githubusercontent.com/32555702/37250704-5daa4baa-24b7-11e8-9f34-6b0450e839f5.JPG)"
      ]
    },
    {
      "cell_type": "markdown",
      "metadata": {
        "id": "ygH5WIrsaKUd"
      },
      "source": [
        "# Student Performance Analysis\n",
        "This data approach student achievement in secondary education of two Portuguese schools. The data attributes include student grades, demographic, social and school related features and it was collected by using school reports and questionnaires. Two datasets are provided regarding the performance in two distinct subjects: Mathematics (mat) and Portuguese language (por). \n",
        "\n",
        "I have classified these students into three categories, \"good\", \"fair\", and \"poor\", according to their final exam performance. Then I analyzed a few features that have significant influence on students' final performance, including Romantic Status, Alcohol Consumption, Parents Education Level, Frequency Of Going Out, Desire Of Higher Education and Living Area. Finally, leveraging avaiable features, I have created various machine learning models to predict students' final performance classification and have compared models performance based on one-out sample accuracy score.\n",
        "\n",
        "Dataset available at: http://archive.ics.uci.edu/ml/datasets/Student+Performance#"
      ]
    },
    {
      "cell_type": "markdown",
      "metadata": {
        "id": "yFQ_mxX2aKUf"
      },
      "source": [
        "![kids](https://user-images.githubusercontent.com/32555702/37250835-ffa33bcc-24b9-11e8-8b0f-f5275640cd27.png)"
      ]
    },
    {
      "cell_type": "markdown",
      "metadata": {
        "id": "cJ4nc1dpaKUi"
      },
      "source": [
        "\n",
        "\n",
        "________________________________________________________________________________________________________________________________"
      ]
    },
    {
      "cell_type": "markdown",
      "metadata": {
        "id": "RLkVc09caKUj"
      },
      "source": [
        "#### Table of Content\n",
        "1. Import Packages\n",
        "2. Load Dataset\n",
        "3. Data Preparation\n",
        "4. EDA\n",
        "     - 4.1 Final Grade Distribution\n",
        "     - 4.2 Correlation Heatmap\n",
        "     - 4.3 Romantic Status\n",
        "     - 4.4 Alcohol Consumption\n",
        "     - 4.5 Parents Education Level\n",
        "     - 4.6 Frequency Of Going Out\n",
        "     - 4.7 Desire Of Higher Education\n",
        "     - 4.8 Urban Vs. Rural Students\n",
        "5. Classification\n",
        "     - 5.1 Prepare Dataset For Modelling\n",
        "     - 5.2 Decision Tree Classifier\n",
        "     - 5.3 Random Forest Classifier\n",
        "     - 5.4 Support Vector Classifier\n",
        "     - 5.5 Logistic Regression Classifier\n",
        "     - 5.6 Ada Boost Classifier\n",
        "     - 5.7 Sochastic Gradient Descent Classifier\n",
        "     - 5.8 Model Selection\n",
        "6. Summary"
      ]
    },
    {
      "cell_type": "markdown",
      "metadata": {
        "id": "IgBt7UUMaKUl"
      },
      "source": [
        "## 1. Import Packages"
      ]
    },
    {
      "cell_type": "code",
      "execution_count": 6,
      "metadata": {
        "id": "nzw1TMilaKUm"
      },
      "outputs": [],
      "source": [
        "import numpy as np\n",
        "import pandas as pd\n",
        "import matplotlib.pyplot as plt\n",
        "%matplotlib inline\n",
        "import seaborn as sns\n",
        "sns.set_style('whitegrid')\n",
        "import statsmodels.api as sm"
      ]
    },
    {
      "cell_type": "code",
      "source": [
        "from google.colab import drive\n",
        "drive.mount('/content/drive')"
      ],
      "metadata": {
        "id": "8lkXM-cAdP9W",
        "outputId": "d04f1e75-b34b-448c-cc82-b76395e03b37",
        "colab": {
          "base_uri": "https://localhost:8080/"
        }
      },
      "execution_count": 7,
      "outputs": [
        {
          "output_type": "stream",
          "name": "stdout",
          "text": [
            "Drive already mounted at /content/drive; to attempt to forcibly remount, call drive.mount(\"/content/drive\", force_remount=True).\n"
          ]
        }
      ]
    },
    {
      "cell_type": "markdown",
      "metadata": {
        "id": "Ktzq7FsVaKUo"
      },
      "source": [
        "## 2. Load Dataset"
      ]
    },
    {
      "cell_type": "code",
      "execution_count": 8,
      "metadata": {
        "collapsed": true,
        "id": "PmpN_O8KaKUp"
      },
      "outputs": [],
      "source": [
        "# load datasets for two subjects, Math and Portuguese\n",
        "mat = pd.read_csv(\"/content/drive/MyDrive/data/Student/student-mat.csv\", sep=';')\n",
        "por = pd.read_csv(\"/content/drive/MyDrive/data/Student/student-por.csv\", sep=';')"
      ]
    },
    {
      "cell_type": "markdown",
      "metadata": {
        "id": "NsuE1pPgaKUq"
      },
      "source": [
        "## 3. Data Preparation"
      ]
    },
    {
      "cell_type": "code",
      "execution_count": 9,
      "metadata": {
        "collapsed": true,
        "id": "_Zju-oxmaKUq"
      },
      "outputs": [],
      "source": [
        "# merge datasets\n",
        "df = pd.concat([mat,por])"
      ]
    },
    {
      "cell_type": "code",
      "execution_count": 10,
      "metadata": {
        "collapsed": true,
        "id": "CZNz7u5SaKUr"
      },
      "outputs": [],
      "source": [
        "# rename column labels\n",
        "df.columns = ['school','sex','age','address','family_size','parents_status','mother_education','father_education',\n",
        "           'mother_job','father_job','reason','guardian','commute_time','study_time','failures','school_support',\n",
        "          'family_support','paid_classes','activities','nursery','desire_higher_edu','internet','romantic','family_quality',\n",
        "          'free_time','go_out','weekday_alcohol_usage','weekend_alcohol_usage','health','absences','period1_score','period2_score','final_score']"
      ]
    },
    {
      "cell_type": "code",
      "execution_count": 11,
      "metadata": {
        "colab": {
          "base_uri": "https://localhost:8080/",
          "height": 299
        },
        "id": "FIxc9YNtaKUs",
        "outputId": "f68ef130-c662-4f5d-b389-8d60cbbe3aba"
      },
      "outputs": [
        {
          "output_type": "execute_result",
          "data": {
            "text/plain": [
              "  school sex  age address family_size parents_status  mother_education  \\\n",
              "0     GP   F   18       U         GT3              A                 4   \n",
              "1     GP   F   17       U         GT3              T                 1   \n",
              "2     GP   F   15       U         LE3              T                 1   \n",
              "3     GP   F   15       U         GT3              T                 4   \n",
              "4     GP   F   16       U         GT3              T                 3   \n",
              "\n",
              "   father_education mother_job father_job  ... free_time go_out  \\\n",
              "0                 4    at_home    teacher  ...         3      4   \n",
              "1                 1    at_home      other  ...         3      3   \n",
              "2                 1    at_home      other  ...         3      2   \n",
              "3                 2     health   services  ...         2      2   \n",
              "4                 3      other      other  ...         3      2   \n",
              "\n",
              "   weekday_alcohol_usage  weekend_alcohol_usage  health absences  \\\n",
              "0                      1                      1       3        6   \n",
              "1                      1                      1       3        4   \n",
              "2                      2                      3       3       10   \n",
              "3                      1                      1       5        2   \n",
              "4                      1                      2       5        4   \n",
              "\n",
              "  period1_score period2_score final_score final_grade  \n",
              "0             5             6           6        poor  \n",
              "1             5             5           6        poor  \n",
              "2             7             8          10        fair  \n",
              "3            15            14          15        good  \n",
              "4             6            10          10        fair  \n",
              "\n",
              "[5 rows x 34 columns]"
            ],
            "text/html": [
              "\n",
              "  <div id=\"df-9609546e-2c4a-40d7-a67f-2ae92e366728\">\n",
              "    <div class=\"colab-df-container\">\n",
              "      <div>\n",
              "<style scoped>\n",
              "    .dataframe tbody tr th:only-of-type {\n",
              "        vertical-align: middle;\n",
              "    }\n",
              "\n",
              "    .dataframe tbody tr th {\n",
              "        vertical-align: top;\n",
              "    }\n",
              "\n",
              "    .dataframe thead th {\n",
              "        text-align: right;\n",
              "    }\n",
              "</style>\n",
              "<table border=\"1\" class=\"dataframe\">\n",
              "  <thead>\n",
              "    <tr style=\"text-align: right;\">\n",
              "      <th></th>\n",
              "      <th>school</th>\n",
              "      <th>sex</th>\n",
              "      <th>age</th>\n",
              "      <th>address</th>\n",
              "      <th>family_size</th>\n",
              "      <th>parents_status</th>\n",
              "      <th>mother_education</th>\n",
              "      <th>father_education</th>\n",
              "      <th>mother_job</th>\n",
              "      <th>father_job</th>\n",
              "      <th>...</th>\n",
              "      <th>free_time</th>\n",
              "      <th>go_out</th>\n",
              "      <th>weekday_alcohol_usage</th>\n",
              "      <th>weekend_alcohol_usage</th>\n",
              "      <th>health</th>\n",
              "      <th>absences</th>\n",
              "      <th>period1_score</th>\n",
              "      <th>period2_score</th>\n",
              "      <th>final_score</th>\n",
              "      <th>final_grade</th>\n",
              "    </tr>\n",
              "  </thead>\n",
              "  <tbody>\n",
              "    <tr>\n",
              "      <th>0</th>\n",
              "      <td>GP</td>\n",
              "      <td>F</td>\n",
              "      <td>18</td>\n",
              "      <td>U</td>\n",
              "      <td>GT3</td>\n",
              "      <td>A</td>\n",
              "      <td>4</td>\n",
              "      <td>4</td>\n",
              "      <td>at_home</td>\n",
              "      <td>teacher</td>\n",
              "      <td>...</td>\n",
              "      <td>3</td>\n",
              "      <td>4</td>\n",
              "      <td>1</td>\n",
              "      <td>1</td>\n",
              "      <td>3</td>\n",
              "      <td>6</td>\n",
              "      <td>5</td>\n",
              "      <td>6</td>\n",
              "      <td>6</td>\n",
              "      <td>poor</td>\n",
              "    </tr>\n",
              "    <tr>\n",
              "      <th>1</th>\n",
              "      <td>GP</td>\n",
              "      <td>F</td>\n",
              "      <td>17</td>\n",
              "      <td>U</td>\n",
              "      <td>GT3</td>\n",
              "      <td>T</td>\n",
              "      <td>1</td>\n",
              "      <td>1</td>\n",
              "      <td>at_home</td>\n",
              "      <td>other</td>\n",
              "      <td>...</td>\n",
              "      <td>3</td>\n",
              "      <td>3</td>\n",
              "      <td>1</td>\n",
              "      <td>1</td>\n",
              "      <td>3</td>\n",
              "      <td>4</td>\n",
              "      <td>5</td>\n",
              "      <td>5</td>\n",
              "      <td>6</td>\n",
              "      <td>poor</td>\n",
              "    </tr>\n",
              "    <tr>\n",
              "      <th>2</th>\n",
              "      <td>GP</td>\n",
              "      <td>F</td>\n",
              "      <td>15</td>\n",
              "      <td>U</td>\n",
              "      <td>LE3</td>\n",
              "      <td>T</td>\n",
              "      <td>1</td>\n",
              "      <td>1</td>\n",
              "      <td>at_home</td>\n",
              "      <td>other</td>\n",
              "      <td>...</td>\n",
              "      <td>3</td>\n",
              "      <td>2</td>\n",
              "      <td>2</td>\n",
              "      <td>3</td>\n",
              "      <td>3</td>\n",
              "      <td>10</td>\n",
              "      <td>7</td>\n",
              "      <td>8</td>\n",
              "      <td>10</td>\n",
              "      <td>fair</td>\n",
              "    </tr>\n",
              "    <tr>\n",
              "      <th>3</th>\n",
              "      <td>GP</td>\n",
              "      <td>F</td>\n",
              "      <td>15</td>\n",
              "      <td>U</td>\n",
              "      <td>GT3</td>\n",
              "      <td>T</td>\n",
              "      <td>4</td>\n",
              "      <td>2</td>\n",
              "      <td>health</td>\n",
              "      <td>services</td>\n",
              "      <td>...</td>\n",
              "      <td>2</td>\n",
              "      <td>2</td>\n",
              "      <td>1</td>\n",
              "      <td>1</td>\n",
              "      <td>5</td>\n",
              "      <td>2</td>\n",
              "      <td>15</td>\n",
              "      <td>14</td>\n",
              "      <td>15</td>\n",
              "      <td>good</td>\n",
              "    </tr>\n",
              "    <tr>\n",
              "      <th>4</th>\n",
              "      <td>GP</td>\n",
              "      <td>F</td>\n",
              "      <td>16</td>\n",
              "      <td>U</td>\n",
              "      <td>GT3</td>\n",
              "      <td>T</td>\n",
              "      <td>3</td>\n",
              "      <td>3</td>\n",
              "      <td>other</td>\n",
              "      <td>other</td>\n",
              "      <td>...</td>\n",
              "      <td>3</td>\n",
              "      <td>2</td>\n",
              "      <td>1</td>\n",
              "      <td>2</td>\n",
              "      <td>5</td>\n",
              "      <td>4</td>\n",
              "      <td>6</td>\n",
              "      <td>10</td>\n",
              "      <td>10</td>\n",
              "      <td>fair</td>\n",
              "    </tr>\n",
              "  </tbody>\n",
              "</table>\n",
              "<p>5 rows × 34 columns</p>\n",
              "</div>\n",
              "      <button class=\"colab-df-convert\" onclick=\"convertToInteractive('df-9609546e-2c4a-40d7-a67f-2ae92e366728')\"\n",
              "              title=\"Convert this dataframe to an interactive table.\"\n",
              "              style=\"display:none;\">\n",
              "        \n",
              "  <svg xmlns=\"http://www.w3.org/2000/svg\" height=\"24px\"viewBox=\"0 0 24 24\"\n",
              "       width=\"24px\">\n",
              "    <path d=\"M0 0h24v24H0V0z\" fill=\"none\"/>\n",
              "    <path d=\"M18.56 5.44l.94 2.06.94-2.06 2.06-.94-2.06-.94-.94-2.06-.94 2.06-2.06.94zm-11 1L8.5 8.5l.94-2.06 2.06-.94-2.06-.94L8.5 2.5l-.94 2.06-2.06.94zm10 10l.94 2.06.94-2.06 2.06-.94-2.06-.94-.94-2.06-.94 2.06-2.06.94z\"/><path d=\"M17.41 7.96l-1.37-1.37c-.4-.4-.92-.59-1.43-.59-.52 0-1.04.2-1.43.59L10.3 9.45l-7.72 7.72c-.78.78-.78 2.05 0 2.83L4 21.41c.39.39.9.59 1.41.59.51 0 1.02-.2 1.41-.59l7.78-7.78 2.81-2.81c.8-.78.8-2.07 0-2.86zM5.41 20L4 18.59l7.72-7.72 1.47 1.35L5.41 20z\"/>\n",
              "  </svg>\n",
              "      </button>\n",
              "      \n",
              "  <style>\n",
              "    .colab-df-container {\n",
              "      display:flex;\n",
              "      flex-wrap:wrap;\n",
              "      gap: 12px;\n",
              "    }\n",
              "\n",
              "    .colab-df-convert {\n",
              "      background-color: #E8F0FE;\n",
              "      border: none;\n",
              "      border-radius: 50%;\n",
              "      cursor: pointer;\n",
              "      display: none;\n",
              "      fill: #1967D2;\n",
              "      height: 32px;\n",
              "      padding: 0 0 0 0;\n",
              "      width: 32px;\n",
              "    }\n",
              "\n",
              "    .colab-df-convert:hover {\n",
              "      background-color: #E2EBFA;\n",
              "      box-shadow: 0px 1px 2px rgba(60, 64, 67, 0.3), 0px 1px 3px 1px rgba(60, 64, 67, 0.15);\n",
              "      fill: #174EA6;\n",
              "    }\n",
              "\n",
              "    [theme=dark] .colab-df-convert {\n",
              "      background-color: #3B4455;\n",
              "      fill: #D2E3FC;\n",
              "    }\n",
              "\n",
              "    [theme=dark] .colab-df-convert:hover {\n",
              "      background-color: #434B5C;\n",
              "      box-shadow: 0px 1px 3px 1px rgba(0, 0, 0, 0.15);\n",
              "      filter: drop-shadow(0px 1px 2px rgba(0, 0, 0, 0.3));\n",
              "      fill: #FFFFFF;\n",
              "    }\n",
              "  </style>\n",
              "\n",
              "      <script>\n",
              "        const buttonEl =\n",
              "          document.querySelector('#df-9609546e-2c4a-40d7-a67f-2ae92e366728 button.colab-df-convert');\n",
              "        buttonEl.style.display =\n",
              "          google.colab.kernel.accessAllowed ? 'block' : 'none';\n",
              "\n",
              "        async function convertToInteractive(key) {\n",
              "          const element = document.querySelector('#df-9609546e-2c4a-40d7-a67f-2ae92e366728');\n",
              "          const dataTable =\n",
              "            await google.colab.kernel.invokeFunction('convertToInteractive',\n",
              "                                                     [key], {});\n",
              "          if (!dataTable) return;\n",
              "\n",
              "          const docLinkHtml = 'Like what you see? Visit the ' +\n",
              "            '<a target=\"_blank\" href=https://colab.research.google.com/notebooks/data_table.ipynb>data table notebook</a>'\n",
              "            + ' to learn more about interactive tables.';\n",
              "          element.innerHTML = '';\n",
              "          dataTable['output_type'] = 'display_data';\n",
              "          await google.colab.output.renderOutput(dataTable, element);\n",
              "          const docLink = document.createElement('div');\n",
              "          docLink.innerHTML = docLinkHtml;\n",
              "          element.appendChild(docLink);\n",
              "        }\n",
              "      </script>\n",
              "    </div>\n",
              "  </div>\n",
              "  "
            ]
          },
          "metadata": {},
          "execution_count": 11
        }
      ],
      "source": [
        "# convert final_score to categorical variable # Good:15~20 Fair:10~14 Poor:0~9\n",
        "df['final_grade'] = 'na'\n",
        "df.loc[(df.final_score >= 15) & (df.final_score <= 20), 'final_grade'] = 'good' \n",
        "df.loc[(df.final_score >= 10) & (df.final_score <= 14), 'final_grade'] = 'fair' \n",
        "df.loc[(df.final_score >= 0) & (df.final_score <= 9), 'final_grade'] = 'poor' \n",
        "df.head(5)"
      ]
    },
    {
      "cell_type": "markdown",
      "metadata": {
        "id": "qnOP3dBSaKUs"
      },
      "source": [
        "  # Let's have a look at the variables!"
      ]
    },
    {
      "cell_type": "code",
      "execution_count": 20,
      "metadata": {
        "colab": {
          "base_uri": "https://localhost:8080/"
        },
        "id": "8A-8oBG0aKUt",
        "outputId": "0b65030f-c4ea-459a-d6bf-6f0c747a5869"
      },
      "outputs": [
        {
          "output_type": "execute_result",
          "data": {
            "text/plain": [
              "school                   False\n",
              "sex                      False\n",
              "age                      False\n",
              "address                  False\n",
              "family_size              False\n",
              "parents_status           False\n",
              "mother_education         False\n",
              "father_education         False\n",
              "mother_job               False\n",
              "father_job               False\n",
              "reason                   False\n",
              "guardian                 False\n",
              "commute_time             False\n",
              "study_time               False\n",
              "failures                 False\n",
              "school_support           False\n",
              "family_support           False\n",
              "paid_classes             False\n",
              "activities               False\n",
              "nursery                  False\n",
              "desire_higher_edu        False\n",
              "internet                 False\n",
              "romantic                 False\n",
              "family_quality           False\n",
              "free_time                False\n",
              "go_out                   False\n",
              "weekday_alcohol_usage    False\n",
              "weekend_alcohol_usage    False\n",
              "health                   False\n",
              "absences                 False\n",
              "period1_score            False\n",
              "period2_score            False\n",
              "final_score              False\n",
              "final_grade              False\n",
              "dtype: bool"
            ]
          },
          "metadata": {},
          "execution_count": 20
        }
      ],
      "source": [
        "# look for missing values\n",
        "df.isnull().any()"
      ]
    },
    {
      "cell_type": "markdown",
      "metadata": {
        "id": "CJqouG74aKUt"
      },
      "source": [
        "# *Yay! There is no missing values!*"
      ]
    },
    {
      "cell_type": "markdown",
      "metadata": {
        "id": "QYcAm5_caKUt"
      },
      "source": [
        "# 4. EDA"
      ]
    },
    {
      "cell_type": "markdown",
      "metadata": {
        "id": "RV_wt13gaKUu"
      },
      "source": [
        "### 4.1 Final Grade Distribution"
      ]
    },
    {
      "cell_type": "code",
      "execution_count": 13,
      "metadata": {
        "colab": {
          "base_uri": "https://localhost:8080/",
          "height": 488
        },
        "id": "fGThZfxzaKUv",
        "outputId": "bff706f9-2d4c-42e8-a218-fa7b9d23a464"
      },
      "outputs": [
        {
          "output_type": "stream",
          "name": "stderr",
          "text": [
            "/usr/local/lib/python3.7/dist-packages/seaborn/_decorators.py:43: FutureWarning: Pass the following variable as a keyword arg: x. From version 0.12, the only valid positional argument will be `data`, and passing other arguments without an explicit keyword will result in an error or misinterpretation.\n",
            "  FutureWarning\n"
          ]
        },
        {
          "output_type": "execute_result",
          "data": {
            "text/plain": [
              "Text(0, 0.5, 'Number of Student')"
            ]
          },
          "metadata": {},
          "execution_count": 13
        },
        {
          "output_type": "display_data",
          "data": {
            "text/plain": [
              "<Figure size 576x432 with 1 Axes>"
            ],
            "image/png": "[encoded data removed]"
          },
          "metadata": {}
        }
      ],
      "source": [
        "# Final Grade Countplot\n",
        "plt.figure(figsize=(8,6))\n",
        "sns.countplot(df.final_grade, order=[\"poor\",\"fair\",\"good\"], palette='Set1')\n",
        "plt.title('Final Grade - Number of Students',fontsize=20)\n",
        "plt.xlabel('Final Grade', fontsize=16)\n",
        "plt.ylabel('Number of Student', fontsize=16)"
      ]
    },
    {
      "cell_type": "markdown",
      "metadata": {
        "id": "ATKncVGJaKUv"
      },
      "source": [
        "###        \n",
        "\n",
        "-------------------------------------------------------------------------------------------------------------------------------"
      ]
    },
    {
      "cell_type": "markdown",
      "metadata": {
        "id": "GXK_K38daKUw"
      },
      "source": [
        "![4](https://user-images.githubusercontent.com/32555702/37250708-5e36dad4-24b7-11e8-84e8-304897e5c412.png)\n",
        "![3](https://user-images.githubusercontent.com/32555702/37250706-5dde1f2a-24b7-11e8-8f3a-67a81c22f247.JPG)"
      ]
    },
    {
      "cell_type": "markdown",
      "metadata": {
        "id": "ZQX7eq9CaKUy"
      },
      "source": [
        "\n",
        "\n",
        "\n",
        "\n",
        "________________________________________________________________________________________________________________________________\n"
      ]
    },
    {
      "cell_type": "markdown",
      "metadata": {
        "id": "RtbppirAaKUz"
      },
      "source": [
        "### 4.2 Correlation Heatmap"
      ]
    },
    {
      "cell_type": "code",
      "execution_count": 21,
      "metadata": {
        "colab": {
          "base_uri": "https://localhost:8080/",
          "height": 741
        },
        "id": "KoKKHVymaKUz",
        "outputId": "9c032a98-29fc-456e-e0cc-dde44978b26a"
      },
      "outputs": [
        {
          "output_type": "execute_result",
          "data": {
            "text/plain": [
              "Text(0.5, 1.0, 'Correlation Heatmap')"
            ]
          },
          "metadata": {},
          "execution_count": 21
        },
        {
          "output_type": "display_data",
          "data": {
            "text/plain": [
              "<Figure size 720x720 with 2 Axes>"
            ],
            "image/png": "[encoded data removed]"
          },
          "metadata": {}
        }
      ],
      "source": [
        "# see correlation between variables through a correlation heatmap\n",
        "corr = df.corr()\n",
        "plt.figure(figsize=(10,10))\n",
        "sns.heatmap(corr, annot=True, cmap=\"Reds\")\n",
        "plt.title('Correlation Heatmap', fontsize=20)"
      ]
    },
    {
      "cell_type": "markdown",
      "metadata": {
        "collapsed": true,
        "id": "2fF_tBfbaKU0"
      },
      "source": [
        "![5](https://user-images.githubusercontent.com/32555702/37250709-5e535efc-24b7-11e8-97f6-48d2c084c42e.JPG)"
      ]
    },
    {
      "cell_type": "markdown",
      "metadata": {
        "id": "3YlCgQGVaKU1"
      },
      "source": [
        "### 4.3 Final Grade By Romantic Status\n",
        "see how students in a romantic relationship vs. those not in a relationship perform "
      ]
    },
    {
      "cell_type": "code",
      "execution_count": 15,
      "metadata": {
        "collapsed": true,
        "id": "lg3a2X7raKU1"
      },
      "outputs": [],
      "source": [
        "# romantic status\n",
        "perc = (lambda col: col/col.sum())\n",
        "index = ['poor','fair','good']\n",
        "romance_tab1 = pd.crosstab(index=df.final_grade, columns=df.romantic)\n",
        "romance_tab = np.log(romance_tab1)\n",
        "romance_perc = romance_tab.apply(perc).reindex(index)"
      ]
    },
    {
      "cell_type": "code",
      "execution_count": 16,
      "metadata": {
        "colab": {
          "base_uri": "https://localhost:8080/",
          "height": 0
        },
        "id": "wnnezOdJaKU3",
        "outputId": "cb6984d6-5e65-47b3-bb04-7c721e61ac68"
      },
      "outputs": [
        {
          "output_type": "display_data",
          "data": {
            "text/plain": [
              "<Figure size 432x288 with 0 Axes>"
            ]
          },
          "metadata": {}
        },
        {
          "output_type": "display_data",
          "data": {
            "text/plain": [
              "<Figure size 576x576 with 1 Axes>"
            ],
            "image/png": "[encoded data removed]"
          },
          "metadata": {}
        }
      ],
      "source": [
        "plt.figure()\n",
        "romance_perc.plot.bar(colormap=\"PiYG_r\", fontsize=16, figsize=(8,8))\n",
        "plt.title('Final Grade By Romantic Status', fontsize=20)\n",
        "plt.ylabel('Percentage of Logarithm Student Counts ', fontsize=16)\n",
        "plt.xlabel('Final Grade', fontsize=16)\n",
        "plt.show()"
      ]
    },
    {
      "cell_type": "markdown",
      "metadata": {
        "id": "PD-qhpPoaKU4"
      },
      "source": [
        "# Hyphothesis Testing confirmed, romantic status has a significant correlation with final grade."
      ]
    },
    {
      "cell_type": "code",
      "execution_count": 17,
      "metadata": {
        "colab": {
          "base_uri": "https://localhost:8080/"
        },
        "id": "v0tM-YLkaKU4",
        "outputId": "5f81e03c-a850-40f5-ae21-594d7c867c82"
      },
      "outputs": [
        {
          "output_type": "execute_result",
          "data": {
            "text/plain": [
              "0.038810128743959726"
            ]
          },
          "metadata": {},
          "execution_count": 17
        }
      ],
      "source": [
        "# chi-square test result -- significant!\n",
        "import statsmodels.api as sm\n",
        "romance_table = sm.stats.Table(romance_tab1)\n",
        "romance_rslt = romance_table.test_nominal_association()\n",
        "romance_rslt.pvalue"
      ]
    },
    {
      "cell_type": "markdown",
      "metadata": {
        "id": "PtLtAH0PaKU5"
      },
      "source": [
        "![6](https://user-images.githubusercontent.com/32555702/37250710-5f1cc6b6-24b7-11e8-9d25-66cfde267d22.JPG)"
      ]
    },
    {
      "cell_type": "markdown",
      "metadata": {
        "id": "agTomVgKaKU5"
      },
      "source": [
        "### 4.4 Final Grade By Alcohol Consumption\n",
        "See how alcohol consumption influences students' final grade"
      ]
    },
    {
      "cell_type": "markdown",
      "metadata": {
        "id": "qZirMvF7aKU6"
      },
      "source": [
        "![7](https://user-images.githubusercontent.com/32555702/37250711-5f632e80-24b7-11e8-886a-baf51f41fa45.JPG)"
      ]
    },
    {
      "cell_type": "markdown",
      "metadata": {
        "id": "YxEadJyDaKU6"
      },
      "source": [
        "![8.JPG](attachment:8.JPG)"
      ]
    },
    {
      "cell_type": "code",
      "execution_count": 18,
      "metadata": {
        "collapsed": true,
        "id": "dls4DS_eaKU6"
      },
      "outputs": [],
      "source": [
        "# weekend alcohol consumption\n",
        "alc_tab1 = pd.crosstab(index=df.final_grade, columns=df.weekend_alcohol_usage)\n",
        "alc_tab = np.log(alc_tab1)\n",
        "alc_perc = alc_tab.apply(perc).reindex(index)"
      ]
    },
    {
      "cell_type": "code",
      "execution_count": 19,
      "metadata": {
        "colab": {
          "base_uri": "https://localhost:8080/",
          "height": 973
        },
        "id": "kMQiKVAhaKU7",
        "outputId": "296e10fb-a321-4db0-a9c8-caf0a67bcbb0"
      },
      "outputs": [
        {
          "output_type": "stream",
          "name": "stderr",
          "text": [
            "/usr/local/lib/python3.7/dist-packages/ipykernel_launcher.py:3: SettingWithCopyWarning: \n",
            "A value is trying to be set on a copy of a slice from a DataFrame.\n",
            "Try using .loc[row_indexer,col_indexer] = value instead\n",
            "\n",
            "See the caveats in the documentation: https://pandas.pydata.org/pandas-docs/stable/user_guide/indexing.html#returning-a-view-versus-a-copy\n",
            "  This is separate from the ipykernel package so we can avoid doing imports until\n",
            "/usr/local/lib/python3.7/dist-packages/ipykernel_launcher.py:6: SettingWithCopyWarning: \n",
            "A value is trying to be set on a copy of a slice from a DataFrame.\n",
            "Try using .loc[row_indexer,col_indexer] = value instead\n",
            "\n",
            "See the caveats in the documentation: https://pandas.pydata.org/pandas-docs/stable/user_guide/indexing.html#returning-a-view-versus-a-copy\n",
            "  \n"
          ]
        },
        {
          "output_type": "error",
          "ename": "ValueError",
          "evalue": "ignored",
          "traceback": [
            "\u001b[0;31m---------------------------------------------------------------------------\u001b[0m",
            "\u001b[0;31mValueError\u001b[0m                                Traceback (most recent call last)",
            "\u001b[0;32m<ipython-input-19-57783463b5f4>\u001b[0m in \u001b[0;36m<module>\u001b[0;34m()\u001b[0m\n\u001b[1;32m      7\u001b[0m \u001b[0;34m\u001b[0m\u001b[0m\n\u001b[1;32m      8\u001b[0m \u001b[0mplt\u001b[0m\u001b[0;34m.\u001b[0m\u001b[0mfigure\u001b[0m\u001b[0;34m(\u001b[0m\u001b[0mfigsize\u001b[0m\u001b[0;34m=\u001b[0m\u001b[0;34m(\u001b[0m\u001b[0;36m10\u001b[0m\u001b[0;34m,\u001b[0m\u001b[0;36m6\u001b[0m\u001b[0;34m)\u001b[0m\u001b[0;34m)\u001b[0m\u001b[0;34m\u001b[0m\u001b[0;34m\u001b[0m\u001b[0m\n\u001b[0;32m----> 9\u001b[0;31m \u001b[0mp1\u001b[0m\u001b[0;34m=\u001b[0m\u001b[0msns\u001b[0m\u001b[0;34m.\u001b[0m\u001b[0mkdeplot\u001b[0m\u001b[0;34m(\u001b[0m\u001b[0mgood\u001b[0m\u001b[0;34m[\u001b[0m\u001b[0;34m'good_alcohol_usage'\u001b[0m\u001b[0;34m]\u001b[0m\u001b[0;34m,\u001b[0m \u001b[0mshade\u001b[0m\u001b[0;34m=\u001b[0m\u001b[0;32mTrue\u001b[0m\u001b[0;34m,\u001b[0m \u001b[0mcolor\u001b[0m\u001b[0;34m=\u001b[0m\u001b[0;34m\"r\"\u001b[0m\u001b[0;34m)\u001b[0m\u001b[0;34m\u001b[0m\u001b[0;34m\u001b[0m\u001b[0m\n\u001b[0m\u001b[1;32m     10\u001b[0m \u001b[0mp1\u001b[0m\u001b[0;34m=\u001b[0m\u001b[0msns\u001b[0m\u001b[0;34m.\u001b[0m\u001b[0mkdeplot\u001b[0m\u001b[0;34m(\u001b[0m\u001b[0mpoor\u001b[0m\u001b[0;34m[\u001b[0m\u001b[0;34m'poor_alcohol_usage'\u001b[0m\u001b[0;34m]\u001b[0m\u001b[0;34m,\u001b[0m \u001b[0mshade\u001b[0m\u001b[0;34m=\u001b[0m\u001b[0;32mTrue\u001b[0m\u001b[0;34m,\u001b[0m \u001b[0mcolor\u001b[0m\u001b[0;34m=\u001b[0m\u001b[0;34m\"b\"\u001b[0m\u001b[0;34m)\u001b[0m\u001b[0;34m\u001b[0m\u001b[0;34m\u001b[0m\u001b[0m\n\u001b[1;32m     11\u001b[0m \u001b[0mplt\u001b[0m\u001b[0;34m.\u001b[0m\u001b[0mtitle\u001b[0m\u001b[0;34m(\u001b[0m\u001b[0;34m'Good Performance vs. Poor Performance Student Weekend Alcohol Consumption'\u001b[0m\u001b[0;34m,\u001b[0m \u001b[0mfontsize\u001b[0m\u001b[0;34m=\u001b[0m\u001b[0;36m20\u001b[0m\u001b[0;34m)\u001b[0m\u001b[0;34m\u001b[0m\u001b[0;34m\u001b[0m\u001b[0m\n",
            "\u001b[0;32m/usr/local/lib/python3.7/dist-packages/seaborn/_decorators.py\u001b[0m in \u001b[0;36minner_f\u001b[0;34m(*args, **kwargs)\u001b[0m\n\u001b[1;32m     44\u001b[0m             )\n\u001b[1;32m     45\u001b[0m         \u001b[0mkwargs\u001b[0m\u001b[0;34m.\u001b[0m\u001b[0mupdate\u001b[0m\u001b[0;34m(\u001b[0m\u001b[0;34m{\u001b[0m\u001b[0mk\u001b[0m\u001b[0;34m:\u001b[0m \u001b[0marg\u001b[0m \u001b[0;32mfor\u001b[0m \u001b[0mk\u001b[0m\u001b[0;34m,\u001b[0m \u001b[0marg\u001b[0m \u001b[0;32min\u001b[0m \u001b[0mzip\u001b[0m\u001b[0;34m(\u001b[0m\u001b[0msig\u001b[0m\u001b[0;34m.\u001b[0m\u001b[0mparameters\u001b[0m\u001b[0;34m,\u001b[0m \u001b[0margs\u001b[0m\u001b[0;34m)\u001b[0m\u001b[0;34m}\u001b[0m\u001b[0;34m)\u001b[0m\u001b[0;34m\u001b[0m\u001b[0;34m\u001b[0m\u001b[0m\n\u001b[0;32m---> 46\u001b[0;31m         \u001b[0;32mreturn\u001b[0m \u001b[0mf\u001b[0m\u001b[0;34m(\u001b[0m\u001b[0;34m**\u001b[0m\u001b[0mkwargs\u001b[0m\u001b[0;34m)\u001b[0m\u001b[0;34m\u001b[0m\u001b[0;34m\u001b[0m\u001b[0m\n\u001b[0m\u001b[1;32m     47\u001b[0m     \u001b[0;32mreturn\u001b[0m \u001b[0minner_f\u001b[0m\u001b[0;34m\u001b[0m\u001b[0;34m\u001b[0m\u001b[0m\n\u001b[1;32m     48\u001b[0m \u001b[0;34m\u001b[0m\u001b[0m\n",
            "\u001b[0;32m/usr/local/lib/python3.7/dist-packages/seaborn/distributions.py\u001b[0m in \u001b[0;36mkdeplot\u001b[0;34m(x, y, shade, vertical, kernel, bw, gridsize, cut, clip, legend, cumulative, shade_lowest, cbar, cbar_ax, cbar_kws, ax, weights, hue, palette, hue_order, hue_norm, multiple, common_norm, common_grid, levels, thresh, bw_method, bw_adjust, log_scale, color, fill, data, data2, warn_singular, **kwargs)\u001b[0m\n\u001b[1;32m   1776\u001b[0m             \u001b[0mwarn_singular\u001b[0m\u001b[0;34m=\u001b[0m\u001b[0mwarn_singular\u001b[0m\u001b[0;34m,\u001b[0m\u001b[0;34m\u001b[0m\u001b[0;34m\u001b[0m\u001b[0m\n\u001b[1;32m   1777\u001b[0m             \u001b[0mestimate_kws\u001b[0m\u001b[0;34m=\u001b[0m\u001b[0mestimate_kws\u001b[0m\u001b[0;34m,\u001b[0m\u001b[0;34m\u001b[0m\u001b[0;34m\u001b[0m\u001b[0m\n\u001b[0;32m-> 1778\u001b[0;31m             \u001b[0;34m**\u001b[0m\u001b[0mplot_kws\u001b[0m\u001b[0;34m,\u001b[0m\u001b[0;34m\u001b[0m\u001b[0;34m\u001b[0m\u001b[0m\n\u001b[0m\u001b[1;32m   1779\u001b[0m         )\n\u001b[1;32m   1780\u001b[0m \u001b[0;34m\u001b[0m\u001b[0m\n",
            "\u001b[0;32m/usr/local/lib/python3.7/dist-packages/seaborn/distributions.py\u001b[0m in \u001b[0;36mplot_univariate_density\u001b[0;34m(self, multiple, common_norm, common_grid, warn_singular, fill, legend, estimate_kws, **plot_kws)\u001b[0m\n\u001b[1;32m    932\u001b[0m             \u001b[0mestimate_kws\u001b[0m\u001b[0;34m,\u001b[0m\u001b[0;34m\u001b[0m\u001b[0;34m\u001b[0m\u001b[0m\n\u001b[1;32m    933\u001b[0m             \u001b[0mlog_scale\u001b[0m\u001b[0;34m,\u001b[0m\u001b[0;34m\u001b[0m\u001b[0;34m\u001b[0m\u001b[0m\n\u001b[0;32m--> 934\u001b[0;31m             \u001b[0mwarn_singular\u001b[0m\u001b[0;34m,\u001b[0m\u001b[0;34m\u001b[0m\u001b[0;34m\u001b[0m\u001b[0m\n\u001b[0m\u001b[1;32m    935\u001b[0m         )\n\u001b[1;32m    936\u001b[0m \u001b[0;34m\u001b[0m\u001b[0m\n",
            "\u001b[0;32m/usr/local/lib/python3.7/dist-packages/seaborn/distributions.py\u001b[0m in \u001b[0;36m_compute_univariate_density\u001b[0;34m(self, data_variable, common_norm, common_grid, estimate_kws, log_scale, warn_singular)\u001b[0m\n\u001b[1;32m    301\u001b[0m         \u001b[0mdensities\u001b[0m \u001b[0;34m=\u001b[0m \u001b[0;34m{\u001b[0m\u001b[0;34m}\u001b[0m\u001b[0;34m\u001b[0m\u001b[0;34m\u001b[0m\u001b[0m\n\u001b[1;32m    302\u001b[0m \u001b[0;34m\u001b[0m\u001b[0m\n\u001b[0;32m--> 303\u001b[0;31m         \u001b[0;32mfor\u001b[0m \u001b[0msub_vars\u001b[0m\u001b[0;34m,\u001b[0m \u001b[0msub_data\u001b[0m \u001b[0;32min\u001b[0m \u001b[0mself\u001b[0m\u001b[0;34m.\u001b[0m\u001b[0miter_data\u001b[0m\u001b[0;34m(\u001b[0m\u001b[0;34m\"hue\"\u001b[0m\u001b[0;34m,\u001b[0m \u001b[0mfrom_comp_data\u001b[0m\u001b[0;34m=\u001b[0m\u001b[0;32mTrue\u001b[0m\u001b[0;34m)\u001b[0m\u001b[0;34m:\u001b[0m\u001b[0;34m\u001b[0m\u001b[0;34m\u001b[0m\u001b[0m\n\u001b[0m\u001b[1;32m    304\u001b[0m \u001b[0;34m\u001b[0m\u001b[0m\n\u001b[1;32m    305\u001b[0m             \u001b[0;31m# Extract the data points from this sub set and remove nulls\u001b[0m\u001b[0;34m\u001b[0m\u001b[0;34m\u001b[0m\u001b[0;34m\u001b[0m\u001b[0m\n",
            "\u001b[0;32m/usr/local/lib/python3.7/dist-packages/seaborn/_core.py\u001b[0m in \u001b[0;36miter_data\u001b[0;34m(self, grouping_vars, reverse, from_comp_data)\u001b[0m\n\u001b[1;32m    981\u001b[0m \u001b[0;34m\u001b[0m\u001b[0m\n\u001b[1;32m    982\u001b[0m         \u001b[0;32mif\u001b[0m \u001b[0mfrom_comp_data\u001b[0m\u001b[0;34m:\u001b[0m\u001b[0;34m\u001b[0m\u001b[0;34m\u001b[0m\u001b[0m\n\u001b[0;32m--> 983\u001b[0;31m             \u001b[0mdata\u001b[0m \u001b[0;34m=\u001b[0m \u001b[0mself\u001b[0m\u001b[0;34m.\u001b[0m\u001b[0mcomp_data\u001b[0m\u001b[0;34m\u001b[0m\u001b[0;34m\u001b[0m\u001b[0m\n\u001b[0m\u001b[1;32m    984\u001b[0m         \u001b[0;32melse\u001b[0m\u001b[0;34m:\u001b[0m\u001b[0;34m\u001b[0m\u001b[0;34m\u001b[0m\u001b[0m\n\u001b[1;32m    985\u001b[0m             \u001b[0mdata\u001b[0m \u001b[0;34m=\u001b[0m \u001b[0mself\u001b[0m\u001b[0;34m.\u001b[0m\u001b[0mplot_data\u001b[0m\u001b[0;34m\u001b[0m\u001b[0;34m\u001b[0m\u001b[0m\n",
            "\u001b[0;32m/usr/local/lib/python3.7/dist-packages/seaborn/_core.py\u001b[0m in \u001b[0;36mcomp_data\u001b[0;34m(self)\u001b[0m\n\u001b[1;32m   1055\u001b[0m                     \u001b[0morig\u001b[0m \u001b[0;34m=\u001b[0m \u001b[0mself\u001b[0m\u001b[0;34m.\u001b[0m\u001b[0mplot_data\u001b[0m\u001b[0;34m[\u001b[0m\u001b[0mvar\u001b[0m\u001b[0;34m]\u001b[0m\u001b[0;34m.\u001b[0m\u001b[0mdropna\u001b[0m\u001b[0;34m(\u001b[0m\u001b[0;34m)\u001b[0m\u001b[0;34m\u001b[0m\u001b[0;34m\u001b[0m\u001b[0m\n\u001b[1;32m   1056\u001b[0m                 \u001b[0mcomp_col\u001b[0m \u001b[0;34m=\u001b[0m \u001b[0mpd\u001b[0m\u001b[0;34m.\u001b[0m\u001b[0mSeries\u001b[0m\u001b[0;34m(\u001b[0m\u001b[0mindex\u001b[0m\u001b[0;34m=\u001b[0m\u001b[0morig\u001b[0m\u001b[0;34m.\u001b[0m\u001b[0mindex\u001b[0m\u001b[0;34m,\u001b[0m \u001b[0mdtype\u001b[0m\u001b[0;34m=\u001b[0m\u001b[0mfloat\u001b[0m\u001b[0;34m,\u001b[0m \u001b[0mname\u001b[0m\u001b[0;34m=\u001b[0m\u001b[0mvar\u001b[0m\u001b[0;34m)\u001b[0m\u001b[0;34m\u001b[0m\u001b[0;34m\u001b[0m\u001b[0m\n\u001b[0;32m-> 1057\u001b[0;31m                 \u001b[0mcomp_col\u001b[0m\u001b[0;34m.\u001b[0m\u001b[0mloc\u001b[0m\u001b[0;34m[\u001b[0m\u001b[0morig\u001b[0m\u001b[0;34m.\u001b[0m\u001b[0mindex\u001b[0m\u001b[0;34m]\u001b[0m \u001b[0;34m=\u001b[0m \u001b[0mpd\u001b[0m\u001b[0;34m.\u001b[0m\u001b[0mto_numeric\u001b[0m\u001b[0;34m(\u001b[0m\u001b[0maxis\u001b[0m\u001b[0;34m.\u001b[0m\u001b[0mconvert_units\u001b[0m\u001b[0;34m(\u001b[0m\u001b[0morig\u001b[0m\u001b[0;34m)\u001b[0m\u001b[0;34m)\u001b[0m\u001b[0;34m\u001b[0m\u001b[0;34m\u001b[0m\u001b[0m\n\u001b[0m\u001b[1;32m   1058\u001b[0m \u001b[0;34m\u001b[0m\u001b[0m\n\u001b[1;32m   1059\u001b[0m                 \u001b[0;32mif\u001b[0m \u001b[0maxis\u001b[0m\u001b[0;34m.\u001b[0m\u001b[0mget_scale\u001b[0m\u001b[0;34m(\u001b[0m\u001b[0;34m)\u001b[0m \u001b[0;34m==\u001b[0m \u001b[0;34m\"log\"\u001b[0m\u001b[0;34m:\u001b[0m\u001b[0;34m\u001b[0m\u001b[0;34m\u001b[0m\u001b[0m\n",
            "\u001b[0;32m/usr/local/lib/python3.7/dist-packages/pandas/core/indexing.py\u001b[0m in \u001b[0;36m__setitem__\u001b[0;34m(self, key, value)\u001b[0m\n\u001b[1;32m    721\u001b[0m \u001b[0;34m\u001b[0m\u001b[0m\n\u001b[1;32m    722\u001b[0m         \u001b[0miloc\u001b[0m \u001b[0;34m=\u001b[0m \u001b[0mself\u001b[0m \u001b[0;32mif\u001b[0m \u001b[0mself\u001b[0m\u001b[0;34m.\u001b[0m\u001b[0mname\u001b[0m \u001b[0;34m==\u001b[0m \u001b[0;34m\"iloc\"\u001b[0m \u001b[0;32melse\u001b[0m \u001b[0mself\u001b[0m\u001b[0;34m.\u001b[0m\u001b[0mobj\u001b[0m\u001b[0;34m.\u001b[0m\u001b[0miloc\u001b[0m\u001b[0;34m\u001b[0m\u001b[0;34m\u001b[0m\u001b[0m\n\u001b[0;32m--> 723\u001b[0;31m         \u001b[0miloc\u001b[0m\u001b[0;34m.\u001b[0m\u001b[0m_setitem_with_indexer\u001b[0m\u001b[0;34m(\u001b[0m\u001b[0mindexer\u001b[0m\u001b[0;34m,\u001b[0m \u001b[0mvalue\u001b[0m\u001b[0;34m,\u001b[0m \u001b[0mself\u001b[0m\u001b[0;34m.\u001b[0m\u001b[0mname\u001b[0m\u001b[0;34m)\u001b[0m\u001b[0;34m\u001b[0m\u001b[0;34m\u001b[0m\u001b[0m\n\u001b[0m\u001b[1;32m    724\u001b[0m \u001b[0;34m\u001b[0m\u001b[0m\n\u001b[1;32m    725\u001b[0m     \u001b[0;32mdef\u001b[0m \u001b[0m_validate_key\u001b[0m\u001b[0;34m(\u001b[0m\u001b[0mself\u001b[0m\u001b[0;34m,\u001b[0m \u001b[0mkey\u001b[0m\u001b[0;34m,\u001b[0m \u001b[0maxis\u001b[0m\u001b[0;34m:\u001b[0m \u001b[0mint\u001b[0m\u001b[0;34m)\u001b[0m\u001b[0;34m:\u001b[0m\u001b[0;34m\u001b[0m\u001b[0;34m\u001b[0m\u001b[0m\n",
            "\u001b[0;32m/usr/local/lib/python3.7/dist-packages/pandas/core/indexing.py\u001b[0m in \u001b[0;36m_setitem_with_indexer\u001b[0;34m(self, indexer, value, name)\u001b[0m\n\u001b[1;32m   1730\u001b[0m             \u001b[0mself\u001b[0m\u001b[0;34m.\u001b[0m\u001b[0m_setitem_with_indexer_split_path\u001b[0m\u001b[0;34m(\u001b[0m\u001b[0mindexer\u001b[0m\u001b[0;34m,\u001b[0m \u001b[0mvalue\u001b[0m\u001b[0;34m,\u001b[0m \u001b[0mname\u001b[0m\u001b[0;34m)\u001b[0m\u001b[0;34m\u001b[0m\u001b[0;34m\u001b[0m\u001b[0m\n\u001b[1;32m   1731\u001b[0m         \u001b[0;32melse\u001b[0m\u001b[0;34m:\u001b[0m\u001b[0;34m\u001b[0m\u001b[0;34m\u001b[0m\u001b[0m\n\u001b[0;32m-> 1732\u001b[0;31m             \u001b[0mself\u001b[0m\u001b[0;34m.\u001b[0m\u001b[0m_setitem_single_block\u001b[0m\u001b[0;34m(\u001b[0m\u001b[0mindexer\u001b[0m\u001b[0;34m,\u001b[0m \u001b[0mvalue\u001b[0m\u001b[0;34m,\u001b[0m \u001b[0mname\u001b[0m\u001b[0;34m)\u001b[0m\u001b[0;34m\u001b[0m\u001b[0;34m\u001b[0m\u001b[0m\n\u001b[0m\u001b[1;32m   1733\u001b[0m \u001b[0;34m\u001b[0m\u001b[0m\n\u001b[1;32m   1734\u001b[0m     \u001b[0;32mdef\u001b[0m \u001b[0m_setitem_with_indexer_split_path\u001b[0m\u001b[0;34m(\u001b[0m\u001b[0mself\u001b[0m\u001b[0;34m,\u001b[0m \u001b[0mindexer\u001b[0m\u001b[0;34m,\u001b[0m \u001b[0mvalue\u001b[0m\u001b[0;34m,\u001b[0m \u001b[0mname\u001b[0m\u001b[0;34m:\u001b[0m \u001b[0mstr\u001b[0m\u001b[0;34m)\u001b[0m\u001b[0;34m:\u001b[0m\u001b[0;34m\u001b[0m\u001b[0;34m\u001b[0m\u001b[0m\n",
            "\u001b[0;32m/usr/local/lib/python3.7/dist-packages/pandas/core/indexing.py\u001b[0m in \u001b[0;36m_setitem_single_block\u001b[0;34m(self, indexer, value, name)\u001b[0m\n\u001b[1;32m   1957\u001b[0m             \u001b[0;31m# setting for extensionarrays that store dicts. Need to decide\u001b[0m\u001b[0;34m\u001b[0m\u001b[0;34m\u001b[0m\u001b[0;34m\u001b[0m\u001b[0m\n\u001b[1;32m   1958\u001b[0m             \u001b[0;31m# if it's worth supporting that.\u001b[0m\u001b[0;34m\u001b[0m\u001b[0;34m\u001b[0m\u001b[0;34m\u001b[0m\u001b[0m\n\u001b[0;32m-> 1959\u001b[0;31m             \u001b[0mvalue\u001b[0m \u001b[0;34m=\u001b[0m \u001b[0mself\u001b[0m\u001b[0;34m.\u001b[0m\u001b[0m_align_series\u001b[0m\u001b[0;34m(\u001b[0m\u001b[0mindexer\u001b[0m\u001b[0;34m,\u001b[0m \u001b[0mSeries\u001b[0m\u001b[0;34m(\u001b[0m\u001b[0mvalue\u001b[0m\u001b[0;34m)\u001b[0m\u001b[0;34m)\u001b[0m\u001b[0;34m\u001b[0m\u001b[0;34m\u001b[0m\u001b[0m\n\u001b[0m\u001b[1;32m   1960\u001b[0m \u001b[0;34m\u001b[0m\u001b[0m\n\u001b[1;32m   1961\u001b[0m         \u001b[0;32melif\u001b[0m \u001b[0misinstance\u001b[0m\u001b[0;34m(\u001b[0m\u001b[0mvalue\u001b[0m\u001b[0;34m,\u001b[0m \u001b[0mABCDataFrame\u001b[0m\u001b[0;34m)\u001b[0m \u001b[0;32mand\u001b[0m \u001b[0mname\u001b[0m \u001b[0;34m!=\u001b[0m \u001b[0;34m\"iloc\"\u001b[0m\u001b[0;34m:\u001b[0m\u001b[0;34m\u001b[0m\u001b[0;34m\u001b[0m\u001b[0m\n",
            "\u001b[0;32m/usr/local/lib/python3.7/dist-packages/pandas/core/indexing.py\u001b[0m in \u001b[0;36m_align_series\u001b[0;34m(self, indexer, ser, multiindex_indexer)\u001b[0m\n\u001b[1;32m   2094\u001b[0m             \u001b[0;31m# series, so need to broadcast (see GH5206)\u001b[0m\u001b[0;34m\u001b[0m\u001b[0;34m\u001b[0m\u001b[0;34m\u001b[0m\u001b[0m\n\u001b[1;32m   2095\u001b[0m             \u001b[0;32mif\u001b[0m \u001b[0msum_aligners\u001b[0m \u001b[0;34m==\u001b[0m \u001b[0mself\u001b[0m\u001b[0;34m.\u001b[0m\u001b[0mndim\u001b[0m \u001b[0;32mand\u001b[0m \u001b[0mall\u001b[0m\u001b[0;34m(\u001b[0m\u001b[0mis_sequence\u001b[0m\u001b[0;34m(\u001b[0m\u001b[0m_\u001b[0m\u001b[0;34m)\u001b[0m \u001b[0;32mfor\u001b[0m \u001b[0m_\u001b[0m \u001b[0;32min\u001b[0m \u001b[0mindexer\u001b[0m\u001b[0;34m)\u001b[0m\u001b[0;34m:\u001b[0m\u001b[0;34m\u001b[0m\u001b[0;34m\u001b[0m\u001b[0m\n\u001b[0;32m-> 2096\u001b[0;31m                 \u001b[0mser\u001b[0m \u001b[0;34m=\u001b[0m \u001b[0mser\u001b[0m\u001b[0;34m.\u001b[0m\u001b[0mreindex\u001b[0m\u001b[0;34m(\u001b[0m\u001b[0mobj\u001b[0m\u001b[0;34m.\u001b[0m\u001b[0maxes\u001b[0m\u001b[0;34m[\u001b[0m\u001b[0;36m0\u001b[0m\u001b[0;34m]\u001b[0m\u001b[0;34m[\u001b[0m\u001b[0mindexer\u001b[0m\u001b[0;34m[\u001b[0m\u001b[0;36m0\u001b[0m\u001b[0;34m]\u001b[0m\u001b[0;34m]\u001b[0m\u001b[0;34m,\u001b[0m \u001b[0mcopy\u001b[0m\u001b[0;34m=\u001b[0m\u001b[0;32mTrue\u001b[0m\u001b[0;34m)\u001b[0m\u001b[0;34m.\u001b[0m\u001b[0m_values\u001b[0m\u001b[0;34m\u001b[0m\u001b[0;34m\u001b[0m\u001b[0m\n\u001b[0m\u001b[1;32m   2097\u001b[0m \u001b[0;34m\u001b[0m\u001b[0m\n\u001b[1;32m   2098\u001b[0m                 \u001b[0;31m# single indexer\u001b[0m\u001b[0;34m\u001b[0m\u001b[0;34m\u001b[0m\u001b[0;34m\u001b[0m\u001b[0m\n",
            "\u001b[0;32m/usr/local/lib/python3.7/dist-packages/pandas/core/series.py\u001b[0m in \u001b[0;36mreindex\u001b[0;34m(self, index, **kwargs)\u001b[0m\n\u001b[1;32m   4578\u001b[0m     )\n\u001b[1;32m   4579\u001b[0m     \u001b[0;32mdef\u001b[0m \u001b[0mreindex\u001b[0m\u001b[0;34m(\u001b[0m\u001b[0mself\u001b[0m\u001b[0;34m,\u001b[0m \u001b[0mindex\u001b[0m\u001b[0;34m=\u001b[0m\u001b[0;32mNone\u001b[0m\u001b[0;34m,\u001b[0m \u001b[0;34m**\u001b[0m\u001b[0mkwargs\u001b[0m\u001b[0;34m)\u001b[0m\u001b[0;34m:\u001b[0m\u001b[0;34m\u001b[0m\u001b[0;34m\u001b[0m\u001b[0m\n\u001b[0;32m-> 4580\u001b[0;31m         \u001b[0;32mreturn\u001b[0m \u001b[0msuper\u001b[0m\u001b[0;34m(\u001b[0m\u001b[0;34m)\u001b[0m\u001b[0;34m.\u001b[0m\u001b[0mreindex\u001b[0m\u001b[0;34m(\u001b[0m\u001b[0mindex\u001b[0m\u001b[0;34m=\u001b[0m\u001b[0mindex\u001b[0m\u001b[0;34m,\u001b[0m \u001b[0;34m**\u001b[0m\u001b[0mkwargs\u001b[0m\u001b[0;34m)\u001b[0m\u001b[0;34m\u001b[0m\u001b[0;34m\u001b[0m\u001b[0m\n\u001b[0m\u001b[1;32m   4581\u001b[0m \u001b[0;34m\u001b[0m\u001b[0m\n\u001b[1;32m   4582\u001b[0m     \u001b[0;34m@\u001b[0m\u001b[0mdeprecate_nonkeyword_arguments\u001b[0m\u001b[0;34m(\u001b[0m\u001b[0mversion\u001b[0m\u001b[0;34m=\u001b[0m\u001b[0;32mNone\u001b[0m\u001b[0;34m,\u001b[0m \u001b[0mallowed_args\u001b[0m\u001b[0;34m=\u001b[0m\u001b[0;34m[\u001b[0m\u001b[0;34m\"self\"\u001b[0m\u001b[0;34m,\u001b[0m \u001b[0;34m\"labels\"\u001b[0m\u001b[0;34m]\u001b[0m\u001b[0;34m)\u001b[0m\u001b[0;34m\u001b[0m\u001b[0;34m\u001b[0m\u001b[0m\n",
            "\u001b[0;32m/usr/local/lib/python3.7/dist-packages/pandas/core/generic.py\u001b[0m in \u001b[0;36mreindex\u001b[0;34m(self, *args, **kwargs)\u001b[0m\n\u001b[1;32m   4817\u001b[0m         \u001b[0;31m# perform the reindex on the axes\u001b[0m\u001b[0;34m\u001b[0m\u001b[0;34m\u001b[0m\u001b[0;34m\u001b[0m\u001b[0m\n\u001b[1;32m   4818\u001b[0m         return self._reindex_axes(\n\u001b[0;32m-> 4819\u001b[0;31m             \u001b[0maxes\u001b[0m\u001b[0;34m,\u001b[0m \u001b[0mlevel\u001b[0m\u001b[0;34m,\u001b[0m \u001b[0mlimit\u001b[0m\u001b[0;34m,\u001b[0m \u001b[0mtolerance\u001b[0m\u001b[0;34m,\u001b[0m \u001b[0mmethod\u001b[0m\u001b[0;34m,\u001b[0m \u001b[0mfill_value\u001b[0m\u001b[0;34m,\u001b[0m \u001b[0mcopy\u001b[0m\u001b[0;34m\u001b[0m\u001b[0;34m\u001b[0m\u001b[0m\n\u001b[0m\u001b[1;32m   4820\u001b[0m         ).__finalize__(self, method=\"reindex\")\n\u001b[1;32m   4821\u001b[0m \u001b[0;34m\u001b[0m\u001b[0m\n",
            "\u001b[0;32m/usr/local/lib/python3.7/dist-packages/pandas/core/generic.py\u001b[0m in \u001b[0;36m_reindex_axes\u001b[0;34m(self, axes, level, limit, tolerance, method, fill_value, copy)\u001b[0m\n\u001b[1;32m   4841\u001b[0m                 \u001b[0mfill_value\u001b[0m\u001b[0;34m=\u001b[0m\u001b[0mfill_value\u001b[0m\u001b[0;34m,\u001b[0m\u001b[0;34m\u001b[0m\u001b[0;34m\u001b[0m\u001b[0m\n\u001b[1;32m   4842\u001b[0m                 \u001b[0mcopy\u001b[0m\u001b[0;34m=\u001b[0m\u001b[0mcopy\u001b[0m\u001b[0;34m,\u001b[0m\u001b[0;34m\u001b[0m\u001b[0;34m\u001b[0m\u001b[0m\n\u001b[0;32m-> 4843\u001b[0;31m                 \u001b[0mallow_dups\u001b[0m\u001b[0;34m=\u001b[0m\u001b[0;32mFalse\u001b[0m\u001b[0;34m,\u001b[0m\u001b[0;34m\u001b[0m\u001b[0;34m\u001b[0m\u001b[0m\n\u001b[0m\u001b[1;32m   4844\u001b[0m             )\n\u001b[1;32m   4845\u001b[0m \u001b[0;34m\u001b[0m\u001b[0m\n",
            "\u001b[0;32m/usr/local/lib/python3.7/dist-packages/pandas/core/generic.py\u001b[0m in \u001b[0;36m_reindex_with_indexers\u001b[0;34m(self, reindexers, fill_value, copy, allow_dups)\u001b[0m\n\u001b[1;32m   4887\u001b[0m                 \u001b[0mfill_value\u001b[0m\u001b[0;34m=\u001b[0m\u001b[0mfill_value\u001b[0m\u001b[0;34m,\u001b[0m\u001b[0;34m\u001b[0m\u001b[0;34m\u001b[0m\u001b[0m\n\u001b[1;32m   4888\u001b[0m                 \u001b[0mallow_dups\u001b[0m\u001b[0;34m=\u001b[0m\u001b[0mallow_dups\u001b[0m\u001b[0;34m,\u001b[0m\u001b[0;34m\u001b[0m\u001b[0;34m\u001b[0m\u001b[0m\n\u001b[0;32m-> 4889\u001b[0;31m                 \u001b[0mcopy\u001b[0m\u001b[0;34m=\u001b[0m\u001b[0mcopy\u001b[0m\u001b[0;34m,\u001b[0m\u001b[0;34m\u001b[0m\u001b[0;34m\u001b[0m\u001b[0m\n\u001b[0m\u001b[1;32m   4890\u001b[0m             )\n\u001b[1;32m   4891\u001b[0m             \u001b[0;31m# If we've made a copy once, no need to make another one\u001b[0m\u001b[0;34m\u001b[0m\u001b[0;34m\u001b[0m\u001b[0;34m\u001b[0m\u001b[0m\n",
            "\u001b[0;32m/usr/local/lib/python3.7/dist-packages/pandas/core/internals/managers.py\u001b[0m in \u001b[0;36mreindex_indexer\u001b[0;34m(self, new_axis, indexer, axis, fill_value, allow_dups, copy, consolidate, only_slice)\u001b[0m\n\u001b[1;32m    668\u001b[0m         \u001b[0;31m# some axes don't allow reindexing with dups\u001b[0m\u001b[0;34m\u001b[0m\u001b[0;34m\u001b[0m\u001b[0;34m\u001b[0m\u001b[0m\n\u001b[1;32m    669\u001b[0m         \u001b[0;32mif\u001b[0m \u001b[0;32mnot\u001b[0m \u001b[0mallow_dups\u001b[0m\u001b[0;34m:\u001b[0m\u001b[0;34m\u001b[0m\u001b[0;34m\u001b[0m\u001b[0m\n\u001b[0;32m--> 670\u001b[0;31m             \u001b[0mself\u001b[0m\u001b[0;34m.\u001b[0m\u001b[0maxes\u001b[0m\u001b[0;34m[\u001b[0m\u001b[0maxis\u001b[0m\u001b[0;34m]\u001b[0m\u001b[0;34m.\u001b[0m\u001b[0m_validate_can_reindex\u001b[0m\u001b[0;34m(\u001b[0m\u001b[0mindexer\u001b[0m\u001b[0;34m)\u001b[0m\u001b[0;34m\u001b[0m\u001b[0;34m\u001b[0m\u001b[0m\n\u001b[0m\u001b[1;32m    671\u001b[0m \u001b[0;34m\u001b[0m\u001b[0m\n\u001b[1;32m    672\u001b[0m         \u001b[0;32mif\u001b[0m \u001b[0maxis\u001b[0m \u001b[0;34m>=\u001b[0m \u001b[0mself\u001b[0m\u001b[0;34m.\u001b[0m\u001b[0mndim\u001b[0m\u001b[0;34m:\u001b[0m\u001b[0;34m\u001b[0m\u001b[0;34m\u001b[0m\u001b[0m\n",
            "\u001b[0;32m/usr/local/lib/python3.7/dist-packages/pandas/core/indexes/base.py\u001b[0m in \u001b[0;36m_validate_can_reindex\u001b[0;34m(self, indexer)\u001b[0m\n\u001b[1;32m   3783\u001b[0m         \u001b[0;31m# trying to reindex on an axis with duplicates\u001b[0m\u001b[0;34m\u001b[0m\u001b[0;34m\u001b[0m\u001b[0;34m\u001b[0m\u001b[0m\n\u001b[1;32m   3784\u001b[0m         \u001b[0;32mif\u001b[0m \u001b[0;32mnot\u001b[0m \u001b[0mself\u001b[0m\u001b[0;34m.\u001b[0m\u001b[0m_index_as_unique\u001b[0m \u001b[0;32mand\u001b[0m \u001b[0mlen\u001b[0m\u001b[0;34m(\u001b[0m\u001b[0mindexer\u001b[0m\u001b[0;34m)\u001b[0m\u001b[0;34m:\u001b[0m\u001b[0;34m\u001b[0m\u001b[0;34m\u001b[0m\u001b[0m\n\u001b[0;32m-> 3785\u001b[0;31m             \u001b[0;32mraise\u001b[0m \u001b[0mValueError\u001b[0m\u001b[0;34m(\u001b[0m\u001b[0;34m\"cannot reindex from a duplicate axis\"\u001b[0m\u001b[0;34m)\u001b[0m\u001b[0;34m\u001b[0m\u001b[0;34m\u001b[0m\u001b[0m\n\u001b[0m\u001b[1;32m   3786\u001b[0m \u001b[0;34m\u001b[0m\u001b[0m\n\u001b[1;32m   3787\u001b[0m     def reindex(\n",
            "\u001b[0;31mValueError\u001b[0m: cannot reindex from a duplicate axis"
          ]
        },
        {
          "output_type": "display_data",
          "data": {
            "text/plain": [
              "<Figure size 720x432 with 1 Axes>"
            ],
            "image/png": "[encoded data removed]"
          },
          "metadata": {}
        }
      ],
      "source": [
        "# create good student dataframe\n",
        "good = df.loc[df.final_grade == 'good']\n",
        "good['good_alcohol_usage']=good.weekend_alcohol_usage\n",
        "# create poor student dataframe\n",
        "poor = df.loc[df.final_grade == 'poor']\n",
        "poor['poor_alcohol_usage']=poor.weekend_alcohol_usage\n",
        "\n",
        "plt.figure(figsize=(10,6))\n",
        "p1=sns.kdeplot(good['good_alcohol_usage'], shade=True, color=\"r\")\n",
        "p1=sns.kdeplot(poor['poor_alcohol_usage'], shade=True, color=\"b\")\n",
        "plt.title('Good Performance vs. Poor Performance Student Weekend Alcohol Consumption', fontsize=20)\n",
        "plt.ylabel('Density', fontsize=16)\n",
        "plt.xlabel('Level of Alcohol Consumption', fontsize=16)"
      ]
    },
    {
      "cell_type": "code",
      "execution_count": null,
      "metadata": {
        "id": "TjmFasY5aKU7"
      },
      "outputs": [],
      "source": [
        "alc_perc.plot.bar(colormap=\"Reds\", figsize=(10,8), fontsize=16)\n",
        "plt.title('Final Grade By Weekend Alcohol Consumption', fontsize=20)\n",
        "plt.ylabel('Percentage of Logarithm Student Counts', fontsize=16)\n",
        "plt.xlabel('Final Grade', fontsize=16)"
      ]
    },
    {
      "cell_type": "markdown",
      "metadata": {
        "id": "rheFx3tlaKU8"
      },
      "source": [
        "# Hyphothesis Testing confirmed, weekend alcohol consumption has a significant correlation with final grade."
      ]
    },
    {
      "cell_type": "code",
      "execution_count": null,
      "metadata": {
        "id": "xehkhCt5aKU9"
      },
      "outputs": [],
      "source": [
        "# chi-square test result -- significant!\n",
        "import statsmodels.api as sm\n",
        "alc_table = sm.stats.Table(alc_tab1)\n",
        "alc_rslt = alc_table.test_nominal_association()\n",
        "alc_rslt.pvalue"
      ]
    },
    {
      "cell_type": "markdown",
      "metadata": {
        "id": "_YoRCJBpaKU9"
      },
      "source": [
        "![9](https://user-images.githubusercontent.com/32555702/37250713-5fe38828-24b7-11e8-860a-99b293fceb1f.JPG)"
      ]
    },
    {
      "cell_type": "markdown",
      "metadata": {
        "id": "d0FP2ymIaKU-"
      },
      "source": [
        "### 4.5 Final Grade By Parents Education Level\n",
        "see how parents' education level influence student performance"
      ]
    },
    {
      "cell_type": "markdown",
      "metadata": {
        "id": "QG0LqSCjaKU-"
      },
      "source": [
        "![14](https://user-images.githubusercontent.com/32555702/37250799-4a17cef8-24b9-11e8-8ef7-1c1529d4ecfb.JPG)"
      ]
    },
    {
      "cell_type": "code",
      "execution_count": null,
      "metadata": {
        "id": "UHKBj5nWaKU-"
      },
      "outputs": [],
      "source": [
        "good['good_student_father_education'] = good.father_education\n",
        "poor['poor_student_father_education'] = poor.father_education\n",
        "good['good_student_mother_education'] = good.mother_education\n",
        "poor['poor_student_mother_education'] = poor.mother_education"
      ]
    },
    {
      "cell_type": "code",
      "execution_count": null,
      "metadata": {
        "id": "SZBKyvUpaKU_"
      },
      "outputs": [],
      "source": [
        "# see the difference between good and poor performers' father education level(numeric: from 1 - very low to 5 - very high)\n",
        "plt.figure(figsize=(6,4))\n",
        "p2=sns.kdeplot(good['good_student_father_education'], shade=True, color=\"r\")\n",
        "p2=sns.kdeplot(poor['poor_student_father_education'], shade=True, color=\"b\")\n",
        "plt.xlabel('Father Education Level', fontsize=20)"
      ]
    },
    {
      "cell_type": "code",
      "execution_count": null,
      "metadata": {
        "id": "rrhGYm5_aKU_"
      },
      "outputs": [],
      "source": [
        "# see the difference between good and poor performers' mother education level(numeric: from 1 - very low to 5 - very high)\n",
        "plt.figure(figsize=(6,4))\n",
        "p3=sns.kdeplot(good['good_student_mother_education'], shade=True, color=\"r\")\n",
        "p3=sns.kdeplot(poor['poor_student_mother_education'], shade=True, color=\"b\")\n",
        "plt.xlabel('Mother Education Level', fontsize=20)"
      ]
    },
    {
      "cell_type": "markdown",
      "metadata": {
        "id": "cysA-0IlaKU_"
      },
      "source": [
        "# OLS tells that parents' education level has a positive correlation with students' final score. Comparatively, mother's education level has bigger influence than father's education level!"
      ]
    },
    {
      "cell_type": "code",
      "execution_count": null,
      "metadata": {
        "id": "ABEpMfhsaKVA"
      },
      "outputs": [],
      "source": [
        "# use OLS to see coefficients\n",
        "X_edu = df[['mother_education','father_education']]\n",
        "y_edu = df.final_score\n",
        "edu = sm.OLS(y_edu, X_edu)\n",
        "results_edu = edu.fit()\n",
        "results_edu.summary()"
      ]
    },
    {
      "cell_type": "markdown",
      "metadata": {
        "collapsed": true,
        "id": "ScuodUjWaKVA"
      },
      "source": [
        "![10](https://user-images.githubusercontent.com/32555702/37250714-6019f084-24b7-11e8-8f47-1b0a5ec046b8.JPG)"
      ]
    },
    {
      "cell_type": "markdown",
      "metadata": {
        "id": "LwyoghCOaKVJ"
      },
      "source": [
        "### 4.6 Final Grade By Frequency Of Going Out\n",
        "See how frequency of goig out with friend influence students' final performance"
      ]
    },
    {
      "cell_type": "markdown",
      "metadata": {
        "id": "eP5xvtOIaKVK"
      },
      "source": [
        "![11](https://user-images.githubusercontent.com/32555702/37250715-605453d2-24b7-11e8-8af9-54f94739f8e5.JPG)"
      ]
    },
    {
      "cell_type": "code",
      "execution_count": null,
      "metadata": {
        "id": "E794n50paKVK"
      },
      "outputs": [],
      "source": [
        "# going out with friends (numeric: from 1 - very low to 5 - very high)\n",
        "plt.figure(figsize=(6,10))\n",
        "sns.boxplot(x='go_out', y='final_score', data=df, palette='hot')\n",
        "plt.title('Final Grade By Frequency of Going Out', fontsize=20)\n",
        "plt.ylabel('Final Score', fontsize=16)\n",
        "plt.xlabel('Frequency of Going Out', fontsize=16)"
      ]
    },
    {
      "cell_type": "code",
      "execution_count": null,
      "metadata": {
        "id": "oethNrXTaKVK"
      },
      "outputs": [],
      "source": [
        "out_tab = pd.crosstab(index=df.final_grade, columns=df.go_out)\n",
        "out_perc = out_tab.apply(perc).reindex(index)\n",
        "\n",
        "out_perc.plot.bar(colormap=\"mako_r\", fontsize=16, figsize=(14,6))\n",
        "plt.title('Final Grade By Frequency of Going Out', fontsize=20)\n",
        "plt.ylabel('Percentage of Student', fontsize=16)\n",
        "plt.xlabel('Final Grade', fontsize=16)"
      ]
    },
    {
      "cell_type": "markdown",
      "metadata": {
        "id": "tOnfJmVaaKVL"
      },
      "source": [
        "# Hyphothesis Testing confirmed, the frequency of going out with friends has a significant correlation with students' final performance."
      ]
    },
    {
      "cell_type": "code",
      "execution_count": null,
      "metadata": {
        "id": "02RhmonJaKVL"
      },
      "outputs": [],
      "source": [
        "# chi-square test result -- significant!\n",
        "out_table = sm.stats.Table(out_tab)\n",
        "out_rslt = out_table.test_nominal_association()\n",
        "out_rslt.pvalue"
      ]
    },
    {
      "cell_type": "markdown",
      "metadata": {
        "id": "wQfUyVtgaKVL"
      },
      "source": [
        "![12](https://user-images.githubusercontent.com/32555702/37250716-60c5d2a0-24b7-11e8-8422-c10374e02553.JPG)"
      ]
    },
    {
      "cell_type": "markdown",
      "metadata": {
        "id": "NSqHBtwwaKVM"
      },
      "source": [
        "### 4.7 Final Grade By Desire To Go To College\n",
        "see how desire to go to college influence student final performance"
      ]
    },
    {
      "cell_type": "markdown",
      "metadata": {
        "id": "uSsZ4mAEaKVM"
      },
      "source": [
        "![13](https://user-images.githubusercontent.com/32555702/37250717-60fc7e68-24b7-11e8-8595-c6582ef598f3.JPG)"
      ]
    },
    {
      "cell_type": "code",
      "execution_count": null,
      "metadata": {
        "id": "qAl9O9rVaKVM"
      },
      "outputs": [],
      "source": [
        "# Desire for higher education and study time by age \n",
        "plt.figure(figsize=(12,8))\n",
        "sns.violinplot(x='age', y='study_time', hue='desire_higher_edu', data=df, palette=\"Accent_r\", ylim=(1,6))\n",
        "plt.title('Distribution Of Study Time By Age & Desire To Receive Higher Education', fontsize=20)\n",
        "plt.ylabel('Study Time', fontsize=16)\n",
        "plt.xlabel('Age', fontsize=16)"
      ]
    },
    {
      "cell_type": "code",
      "execution_count": null,
      "metadata": {
        "collapsed": true,
        "id": "RqcZIdcHaKVM"
      },
      "outputs": [],
      "source": [
        "higher_tab = pd.crosstab(index=df.final_grade, columns=df.desire_higher_edu)\n",
        "higher_perc = higher_tab.apply(perc).reindex(index)"
      ]
    },
    {
      "cell_type": "code",
      "execution_count": null,
      "metadata": {
        "id": "Z1uGMwFGaKVN"
      },
      "outputs": [],
      "source": [
        "higher_perc.plot.bar(colormap=\"Vega20_r\", figsize=(14,6), fontsize=16)\n",
        "plt.title('Final Grade By Desire to Receive Higher Education', fontsize=20)\n",
        "plt.xlabel('Final Grade', fontsize=16)\n",
        "plt.ylabel('Percentage of Student', fontsize=16)"
      ]
    },
    {
      "cell_type": "markdown",
      "metadata": {
        "id": "KBA2n8ZIaKVN"
      },
      "source": [
        "# Hyphothesis Testing confirmed, the desire of going to college has a significant correlation with students' final performance."
      ]
    },
    {
      "cell_type": "code",
      "execution_count": null,
      "metadata": {
        "id": "dKNNdnjEaKVN"
      },
      "outputs": [],
      "source": [
        "# chi-square test result -- significant!\n",
        "import statsmodels.api as sm\n",
        "higher_table = sm.stats.Table(higher_tab)\n",
        "higher_rslt = higher_table.test_nominal_association()\n",
        "higher_rslt.pvalue"
      ]
    },
    {
      "cell_type": "markdown",
      "metadata": {
        "id": "LH_4PMk0aKVN"
      },
      "source": [
        "![15](https://user-images.githubusercontent.com/32555702/37250719-61a70cac-24b7-11e8-9c02-3268495f16be.JPG)"
      ]
    },
    {
      "cell_type": "markdown",
      "metadata": {
        "id": "SWZ5vZ05aKVO"
      },
      "source": [
        "### 4.8 Final Grade By Living Area\n",
        "see how the final performance difference between students living in the city and those living in rural areas"
      ]
    },
    {
      "cell_type": "markdown",
      "metadata": {
        "id": "haHc2vneaKVO"
      },
      "source": [
        "![16](https://user-images.githubusercontent.com/32555702/37250720-621b2682-24b7-11e8-86bd-3a0f8b54aec5.JPG)"
      ]
    },
    {
      "cell_type": "code",
      "execution_count": null,
      "metadata": {
        "collapsed": true,
        "id": "D3Qc42NdaKVO"
      },
      "outputs": [],
      "source": [
        "# living area: urban vs. rural\n",
        "df.address = df.address.map({'U':'Urban', 'R':'Rural'})"
      ]
    },
    {
      "cell_type": "code",
      "execution_count": null,
      "metadata": {
        "id": "LZJkaaUmaKVP"
      },
      "outputs": [],
      "source": [
        "plt.figure(figsize=(6,6))\n",
        "sns.countplot(df.address, palette='Vega20b_r')\n",
        "plt.title('Urban and Rural Students Count', fontsize=20)\n",
        "plt.xlabel('Living Area', fontsize=16)\n",
        "plt.ylabel('Number Of Students', fontsize=16)\n",
        "plt.show()"
      ]
    },
    {
      "cell_type": "code",
      "execution_count": null,
      "metadata": {
        "collapsed": true,
        "id": "0tmP9XowaKVP"
      },
      "outputs": [],
      "source": [
        "ad_tab1 = pd.crosstab(index=df.final_grade, columns=df.address)\n",
        "ad_tab = np.log(ad_tab1)\n",
        "ad_perc = ad_tab.apply(perc).reindex(index)"
      ]
    },
    {
      "cell_type": "code",
      "execution_count": null,
      "metadata": {
        "id": "1mpnFsydaKVP"
      },
      "outputs": [],
      "source": [
        "ad_perc.plot.bar(colormap=\"RdYlGn_r\", fontsize=16, figsize=(8,6))\n",
        "plt.title('Final Grade By Living Area', fontsize=20)\n",
        "plt.ylabel('Percentage of Logarithm Student#', fontsize=16)\n",
        "plt.xlabel('Final Grade', fontsize=16)"
      ]
    },
    {
      "cell_type": "markdown",
      "metadata": {
        "id": "K0qhROl5aKVQ"
      },
      "source": [
        "# Hyphothesis Testing confirmed, the frequency of going out with friends has a significant correlation with students' final performance."
      ]
    },
    {
      "cell_type": "code",
      "execution_count": null,
      "metadata": {
        "id": "54L0TRuNaKVQ"
      },
      "outputs": [],
      "source": [
        "# chi-square test result -- significant!\n",
        "ad_table = sm.stats.Table(ad_tab1)\n",
        "ad_rslt = ad_table.test_nominal_association()\n",
        "ad_rslt.pvalue"
      ]
    },
    {
      "cell_type": "markdown",
      "metadata": {
        "id": "Diw8vb6eaKVS"
      },
      "source": [
        "![17](https://user-images.githubusercontent.com/32555702/37250721-62532320-24b7-11e8-9757-359085d3af97.JPG)"
      ]
    },
    {
      "cell_type": "code",
      "execution_count": null,
      "metadata": {
        "collapsed": true,
        "id": "gjoiiiWRaKVT"
      },
      "outputs": [],
      "source": [
        "# explore other variables via OLS\n",
        "dfl = df.copy()\n",
        "X_ols = dfl.drop(['period1_score', 'period2_score', 'final_score','final_grade', 'failures','study_time','absences'], axis=1)\n",
        "X_ols = pd.get_dummies(X_ols)"
      ]
    },
    {
      "cell_type": "code",
      "execution_count": null,
      "metadata": {
        "collapsed": true,
        "id": "HrQ0DOlnaKVT"
      },
      "outputs": [],
      "source": [
        "mod = sm.OLS(df.final_score, X_ols)\n",
        "mod = mod.fit()"
      ]
    },
    {
      "cell_type": "markdown",
      "metadata": {
        "id": "mux0hv6caKVU"
      },
      "source": [
        "# 5. Classification\n",
        "### Use Students' Information To Predict Their Final Grade"
      ]
    },
    {
      "cell_type": "markdown",
      "metadata": {
        "id": "4VJlBQrDaKVV"
      },
      "source": [
        "### 5.1 Prepare Dataset for Modelling"
      ]
    },
    {
      "cell_type": "code",
      "execution_count": null,
      "metadata": {
        "collapsed": true,
        "id": "lz86U3zeaKVY"
      },
      "outputs": [],
      "source": [
        "# create dataframe dfd for classification\n",
        "dfd = df.copy()\n",
        "dfd = dfd.drop([ 'final_score'], axis=1)"
      ]
    },
    {
      "cell_type": "code",
      "execution_count": null,
      "metadata": {
        "collapsed": true,
        "id": "gG8mxzGvaKVZ"
      },
      "outputs": [],
      "source": [
        "# label encode final_grade\n",
        "from sklearn import preprocessing\n",
        "le = preprocessing.LabelEncoder()\n",
        "dfd.final_grade = le.fit_transform(dfd.final_grade)"
      ]
    },
    {
      "cell_type": "code",
      "execution_count": null,
      "metadata": {
        "id": "c8wwru5raKVa"
      },
      "outputs": [],
      "source": [
        "# dataset train_test_split\n",
        "from sklearn.cross_validation import train_test_split\n",
        "X = dfd.drop('final_grade',axis=1)\n",
        "y = dfd.final_grade\n",
        "X_train,X_test,y_train,y_test=train_test_split(X,y,test_size=0.3)"
      ]
    },
    {
      "cell_type": "code",
      "execution_count": null,
      "metadata": {
        "collapsed": true,
        "id": "-SDKZ2m6aKVa"
      },
      "outputs": [],
      "source": [
        "# get dummy varibles \n",
        "X_train = pd.get_dummies(X_train)\n",
        "X_test = pd.get_dummies(X_test)"
      ]
    },
    {
      "cell_type": "code",
      "execution_count": null,
      "metadata": {
        "id": "ZVXPeGwgaKVb"
      },
      "outputs": [],
      "source": [
        "# see total number of features\n",
        "len(list(X_train))"
      ]
    },
    {
      "cell_type": "markdown",
      "metadata": {
        "id": "nv5-8-fsaKVb"
      },
      "source": [
        "### 5.2 Decision Tree Classification"
      ]
    },
    {
      "cell_type": "code",
      "execution_count": null,
      "metadata": {
        "id": "1HYU5_q2aKVc"
      },
      "outputs": [],
      "source": [
        "# find the optimal # of minimum samples leaf\n",
        "from sklearn.tree import DecisionTreeClassifier\n",
        "\n",
        "msl=[]\n",
        "for i in range(1,58):\n",
        "    tree = DecisionTreeClassifier(min_samples_leaf=i)\n",
        "    t= tree.fit(X_train, y_train)\n",
        "    ts=t.score(X_test, y_test)\n",
        "    msl.append(ts)\n",
        "msl = pd.Series(msl)\n",
        "msl.where(msl==msl.max()).dropna()"
      ]
    },
    {
      "cell_type": "code",
      "execution_count": null,
      "metadata": {
        "id": "BI9ZJ3C9aKVc"
      },
      "outputs": [],
      "source": [
        "# final model\n",
        "tree = DecisionTreeClassifier(min_samples_leaf=17)\n",
        "t= tree.fit(X_train, y_train)\n",
        "print(\"Decisioin Tree Model Score\" , \":\" , t.score(X_train, y_train) , \",\" , \n",
        "      \"Cross Validation Score\" ,\":\" , t.score(X_test, y_test))"
      ]
    },
    {
      "cell_type": "markdown",
      "metadata": {
        "id": "kbSqACKVaKVd"
      },
      "source": [
        "### 5.3 Random Forest Classification"
      ]
    },
    {
      "cell_type": "code",
      "execution_count": null,
      "metadata": {
        "id": "jJPR4e7faKVe"
      },
      "outputs": [],
      "source": [
        "# find a good # of estimators\n",
        "from sklearn.ensemble import RandomForestClassifier\n",
        "\n",
        "ne=[]\n",
        "for i in range(1,58):\n",
        "    forest = RandomForestClassifier()\n",
        "    f = forest.fit(X_train, y_train)\n",
        "    fs = f.score(X_test, y_test)\n",
        "    ne.append(fs)\n",
        "ne = pd.Series(ne)\n",
        "ne.where(ne==ne.max()).dropna()"
      ]
    },
    {
      "cell_type": "code",
      "execution_count": null,
      "metadata": {
        "id": "SrVLJSZJaKVf"
      },
      "outputs": [],
      "source": [
        "# find a good # of min_samples_leaf\n",
        "from sklearn.ensemble import RandomForestClassifier\n",
        "\n",
        "ne=[]\n",
        "for i in range(1,58):\n",
        "    forest = RandomForestClassifier(n_estimators=36, min_samples_leaf=i)\n",
        "    f = forest.fit(X_train, y_train)\n",
        "    fs = f.score(X_test, y_test)\n",
        "    ne.append(fs)\n",
        "ne = pd.Series(ne)\n",
        "ne.where(ne==ne.max()).dropna()"
      ]
    },
    {
      "cell_type": "code",
      "execution_count": null,
      "metadata": {
        "id": "bfISB7cgaKVf"
      },
      "outputs": [],
      "source": [
        "# final model\n",
        "forest = RandomForestClassifier(n_estimators=36, min_samples_leaf=2)\n",
        "f = forest.fit(X_train, y_train)\n",
        "print(\"Raondom Forest Model Score\" , \":\" , f.score(X_train, y_train) , \",\" ,\n",
        "      \"Cross Validation Score\" ,\":\" , f.score(X_test, y_test))"
      ]
    },
    {
      "cell_type": "markdown",
      "metadata": {
        "id": "aBJZ7IaeaKVg"
      },
      "source": [
        "### 5.4 Support Vector Classification"
      ]
    },
    {
      "cell_type": "code",
      "execution_count": null,
      "metadata": {
        "id": "80adnjEAaKVh"
      },
      "outputs": [],
      "source": [
        "from sklearn.svm import SVC\n",
        "svc = SVC()\n",
        "s= svc.fit(X_train, y_train)\n",
        "print(\"SVC Model Score\" , \":\" , s.score(X_train, y_train) , \",\" ,\n",
        "      \"Cross Validation Score\" ,\":\" , s.score(X_test, y_test))"
      ]
    },
    {
      "cell_type": "markdown",
      "metadata": {
        "id": "6IvvV0yLaKVj"
      },
      "source": [
        "### 5.5 Logistic Regression"
      ]
    },
    {
      "cell_type": "code",
      "execution_count": null,
      "metadata": {
        "collapsed": true,
        "id": "8zv-yt-uaKVk"
      },
      "outputs": [],
      "source": [
        "from sklearn.linear_model import LogisticRegression\n",
        "lr = LogisticRegression(multi_class='multinomial', solver='newton-cg',fit_intercept=True)"
      ]
    },
    {
      "cell_type": "code",
      "execution_count": null,
      "metadata": {
        "id": "0Yvhl1vBaKVl"
      },
      "outputs": [],
      "source": [
        "# find optimal # of features to use in the model\n",
        "from sklearn.feature_selection import SelectKBest, chi2\n",
        "\n",
        "ks=[]\n",
        "for i in range(1,58):\n",
        "    sk = SelectKBest(chi2, k=i)\n",
        "    x_new = sk.fit_transform(X_train,y_train)\n",
        "    x_new_test=sk.fit_transform(X_test,y_test)\n",
        "    l = lr.fit(x_new, y_train)\n",
        "    ll = l.score(x_new_test, y_test)\n",
        "    ks.append(ll)  \n",
        "    \n",
        "ks = pd.Series(ks)\n",
        "ks = ks.reindex(list(range(1,58)))\n",
        "ks"
      ]
    },
    {
      "cell_type": "code",
      "execution_count": null,
      "metadata": {
        "collapsed": true,
        "id": "Qot1271UaKVm"
      },
      "outputs": [],
      "source": [
        ""
      ]
    },
    {
      "cell_type": "code",
      "execution_count": null,
      "metadata": {
        "id": "htpAIg2MaKVm"
      },
      "outputs": [],
      "source": [
        "plt.figure(figsize=(10,5))\n",
        "ks.plot.line()\n",
        "plt.title('Feature Selction', fontsize=20)\n",
        "plt.xlabel('Number of Feature Used', fontsize=16)\n",
        "plt.ylabel('Prediction Accuracy', fontsize=16)"
      ]
    },
    {
      "cell_type": "code",
      "execution_count": null,
      "metadata": {
        "id": "ACrb3wiFaKVn"
      },
      "outputs": [],
      "source": [
        "ks.where(ks==ks.max()).dropna()"
      ]
    },
    {
      "cell_type": "code",
      "execution_count": null,
      "metadata": {
        "id": "1r-xI9kCaKVn"
      },
      "outputs": [],
      "source": [
        "# final model\n",
        "sk = SelectKBest(chi2, k=8)\n",
        "x_new = sk.fit_transform(X_train,y_train)\n",
        "x_new_test=sk.fit_transform(X_test,y_test)\n",
        "lr = lr.fit(x_new, y_train)\n",
        "print(\"Logistic Regression Model Score\" , \":\" , lr.score(x_new, y_train) , \",\" ,\n",
        "      \"Cross Validation Score\" ,\":\" , lr.score(x_new_test, y_test))"
      ]
    },
    {
      "cell_type": "markdown",
      "metadata": {
        "id": "NHheL334aKVo"
      },
      "source": [
        "### 5.6 Ada Boost Classification"
      ]
    },
    {
      "cell_type": "code",
      "execution_count": null,
      "metadata": {
        "id": "pr_77I7TaKVo"
      },
      "outputs": [],
      "source": [
        "from sklearn.ensemble import AdaBoostClassifier\n",
        "ada = AdaBoostClassifier(n_estimators=2)\n",
        "af = ada.fit(X_train, y_train)\n",
        "print(\"Ada Boost Model Score\" , \":\" , af.score(X_train, y_train) , \",\" ,\n",
        "      \"Cross Validation Score\" ,\":\" , af.score(X_test, y_test))"
      ]
    },
    {
      "cell_type": "markdown",
      "metadata": {
        "id": "QRZC4fYPaKVo"
      },
      "source": [
        "### 5.7 Stochastic Gradient Descent Classification"
      ]
    },
    {
      "cell_type": "code",
      "execution_count": null,
      "metadata": {
        "id": "w2wxTxJUaKVo"
      },
      "outputs": [],
      "source": [
        "from sklearn.linear_model import SGDClassifier\n",
        "sgd = SGDClassifier()\n",
        "sf = sgd.fit(X_train, y_train)\n",
        "print(\"Stochastic Gradient Descent Model Score\" , \":\" , sf.score(X_train, y_train) , \",\" ,\n",
        "      \"Cross Validation Score\" ,\":\" , sf.score(X_test, y_test))"
      ]
    },
    {
      "cell_type": "markdown",
      "metadata": {
        "id": "m6hd-cXBaKVp"
      },
      "source": [
        "### 5.8 Model Selection\n",
        "Let's compare the performance of each model!"
      ]
    },
    {
      "cell_type": "markdown",
      "metadata": {
        "id": "A-WISAAraKVp"
      },
      "source": [
        "![18](https://user-images.githubusercontent.com/32555702/37250722-62c33d22-24b7-11e8-8612-9c6c9286cc33.JPG)"
      ]
    },
    {
      "cell_type": "markdown",
      "metadata": {
        "id": "Jp_vL93KaKVp"
      },
      "source": [
        "# 6. Summary"
      ]
    },
    {
      "cell_type": "markdown",
      "metadata": {
        "id": "c-QxR2MmaKVp"
      },
      "source": [
        "![19](https://user-images.githubusercontent.com/32555702/37250723-63347eec-24b7-11e8-8a26-083c00031fc4.JPG)"
      ]
    },
    {
      "cell_type": "markdown",
      "metadata": {
        "id": "jP5yv9YiaKVq"
      },
      "source": [
        "![2](https://user-images.githubusercontent.com/32555702/37250705-5dc447f8-24b7-11e8-93fd-201e68bfb4ee.JPG)"
      ]
    }
  ],
  "metadata": {
    "kernelspec": {
      "display_name": "Python 3",
      "language": "python",
      "name": "python3"
    },
    "language_info": {
      "codemirror_mode": {
        "name": "ipython",
        "version": 3
      },
      "file_extension": ".py",
      "mimetype": "text/x-python",
      "name": "python",
      "nbconvert_exporter": "python",
      "pygments_lexer": "ipython3",
      "version": "3.6.3"
    },
    "colab": {
      "name": "Student Performance Analysis and Classification.ipynb",
      "provenance": [],
      "include_colab_link": true
    }
  },
  "nbformat": 4,
  "nbformat_minor": 0
}