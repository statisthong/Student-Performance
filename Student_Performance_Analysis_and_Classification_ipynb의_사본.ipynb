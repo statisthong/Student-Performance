{
  "cells": [
    {
      "cell_type": "markdown",
      "metadata": {
        "id": "view-in-github",
        "colab_type": "text"
      },
      "source": [
        "<a href=\"https://colab.research.google.com/github/statisthong/Student-Performance/blob/main/Student_Performance_Analysis_and_Classification_ipynb%EC%9D%98_%EC%82%AC%EB%B3%B8.ipynb\" target=\"_parent\"><img src=\"https://colab.research.google.com/assets/colab-badge.svg\" alt=\"Open In Colab\"/></a>"
      ]
    },
    {
      "cell_type": "markdown",
      "metadata": {
        "id": "BKQONklaaKUM"
      },
      "source": [
        "![1](https://user-images.githubusercontent.com/32555702/37250704-5daa4baa-24b7-11e8-9f34-6b0450e839f5.JPG)"
      ]
    },
    {
      "cell_type": "markdown",
      "metadata": {
        "id": "ygH5WIrsaKUd"
      },
      "source": [
        "# Student Performance Analysis\n",
        "This data approach student achievement in secondary education of two Portuguese schools. The data attributes include student grades, demographic, social and school related features and it was collected by using school reports and questionnaires. Two datasets are provided regarding the performance in two distinct subjects: Mathematics (mat) and Portuguese language (por). \n",
        "\n",
        "I have classified these students into three categories, \"good\", \"fair\", and \"poor\", according to their final exam performance. Then I analyzed a few features that have significant influence on students' final performance, including Romantic Status, Alcohol Consumption, Parents Education Level, Frequency Of Going Out, Desire Of Higher Education and Living Area. Finally, leveraging avaiable features, I have created various machine learning models to predict students' final performance classification and have compared models performance based on one-out sample accuracy score.\n",
        "\n",
        "Dataset available at: http://archive.ics.uci.edu/ml/datasets/Student+Performance#"
      ]
    },
    {
      "cell_type": "markdown",
      "metadata": {
        "id": "yFQ_mxX2aKUf"
      },
      "source": [
        "![kids](https://user-images.githubusercontent.com/32555702/37250835-ffa33bcc-24b9-11e8-8b0f-f5275640cd27.png)"
      ]
    },
    {
      "cell_type": "markdown",
      "metadata": {
        "id": "cJ4nc1dpaKUi"
      },
      "source": [
        "\n",
        "\n",
        "________________________________________________________________________________________________________________________________"
      ]
    },
    {
      "cell_type": "markdown",
      "metadata": {
        "id": "RLkVc09caKUj"
      },
      "source": [
        "#### Table of Content\n",
        "1. Import Packages\n",
        "2. Load Dataset\n",
        "3. Data Preparation\n",
        "4. EDA\n",
        "     - 4.1 Final Grade Distribution\n",
        "     - 4.2 Correlation Heatmap\n",
        "     - 4.3 Romantic Status\n",
        "     - 4.4 Alcohol Consumption\n",
        "     - 4.5 Parents Education Level\n",
        "     - 4.6 Frequency Of Going Out\n",
        "     - 4.7 Desire Of Higher Education\n",
        "     - 4.8 Urban Vs. Rural Students\n",
        "5. Classification\n",
        "     - 5.1 Prepare Dataset For Modelling\n",
        "     - 5.2 Decision Tree Classifier\n",
        "     - 5.3 Random Forest Classifier\n",
        "     - 5.4 Support Vector Classifier\n",
        "     - 5.5 Logistic Regression Classifier\n",
        "     - 5.6 Ada Boost Classifier\n",
        "     - 5.7 Sochastic Gradient Descent Classifier\n",
        "     - 5.8 Model Selection\n",
        "6. Summary"
      ]
    },
    {
      "cell_type": "markdown",
      "metadata": {
        "id": "IgBt7UUMaKUl"
      },
      "source": [
        "## 1. Import Packages"
      ]
    },
    {
      "cell_type": "code",
      "execution_count": null,
      "metadata": {
        "id": "nzw1TMilaKUm",
        "outputId": "9f404f47-b20f-4b43-d26d-99febbd8e3a7",
        "colab": {
          "base_uri": "https://localhost:8080/"
        }
      },
      "outputs": [
        {
          "output_type": "stream",
          "name": "stderr",
          "text": [
            "/usr/local/lib/python3.7/dist-packages/statsmodels/tools/_testing.py:19: FutureWarning: pandas.util.testing is deprecated. Use the functions in the public API at pandas.testing instead.\n",
            "  import pandas.util.testing as tm\n"
          ]
        }
      ],
      "source": [
        "import numpy as np\n",
        "import pandas as pd\n",
        "import matplotlib.pyplot as plt\n",
        "%matplotlib inline\n",
        "import seaborn as sns\n",
        "sns.set_style('whitegrid')\n",
        "import statsmodels.api as sm"
      ]
    },
    {
      "cell_type": "markdown",
      "metadata": {
        "id": "Ktzq7FsVaKUo"
      },
      "source": [
        "## 2. Load Dataset"
      ]
    },
    {
      "cell_type": "code",
      "execution_count": null,
      "metadata": {
        "collapsed": true,
        "id": "PmpN_O8KaKUp",
        "outputId": "5faa851e-8d3a-497f-90bd-3b78652cf709",
        "colab": {
          "base_uri": "https://localhost:8080/",
          "height": 359
        }
      },
      "outputs": [
        {
          "output_type": "error",
          "ename": "FileNotFoundError",
          "evalue": "ignored",
          "traceback": [
            "\u001b[0;31m---------------------------------------------------------------------------\u001b[0m",
            "\u001b[0;31mFileNotFoundError\u001b[0m                         Traceback (most recent call last)",
            "\u001b[0;32m<ipython-input-2-889802237611>\u001b[0m in \u001b[0;36m<module>\u001b[0;34m()\u001b[0m\n\u001b[1;32m      1\u001b[0m \u001b[0;31m# load datasets for two subjects, Math and Portuguese\u001b[0m\u001b[0;34m\u001b[0m\u001b[0;34m\u001b[0m\u001b[0;34m\u001b[0m\u001b[0m\n\u001b[0;32m----> 2\u001b[0;31m \u001b[0mmat\u001b[0m \u001b[0;34m=\u001b[0m \u001b[0mpd\u001b[0m\u001b[0;34m.\u001b[0m\u001b[0mread_csv\u001b[0m\u001b[0;34m(\u001b[0m\u001b[0;34m\"student-mat.csv\"\u001b[0m\u001b[0;34m,\u001b[0m \u001b[0msep\u001b[0m\u001b[0;34m=\u001b[0m\u001b[0;34m';'\u001b[0m\u001b[0;34m)\u001b[0m\u001b[0;34m\u001b[0m\u001b[0;34m\u001b[0m\u001b[0m\n\u001b[0m\u001b[1;32m      3\u001b[0m \u001b[0mpor\u001b[0m \u001b[0;34m=\u001b[0m \u001b[0mpd\u001b[0m\u001b[0;34m.\u001b[0m\u001b[0mread_csv\u001b[0m\u001b[0;34m(\u001b[0m\u001b[0;34m\"student-por.csv\"\u001b[0m\u001b[0;34m,\u001b[0m \u001b[0msep\u001b[0m\u001b[0;34m=\u001b[0m\u001b[0;34m';'\u001b[0m\u001b[0;34m)\u001b[0m\u001b[0;34m\u001b[0m\u001b[0;34m\u001b[0m\u001b[0m\n",
            "\u001b[0;32m/usr/local/lib/python3.7/dist-packages/pandas/util/_decorators.py\u001b[0m in \u001b[0;36mwrapper\u001b[0;34m(*args, **kwargs)\u001b[0m\n\u001b[1;32m    309\u001b[0m                     \u001b[0mstacklevel\u001b[0m\u001b[0;34m=\u001b[0m\u001b[0mstacklevel\u001b[0m\u001b[0;34m,\u001b[0m\u001b[0;34m\u001b[0m\u001b[0;34m\u001b[0m\u001b[0m\n\u001b[1;32m    310\u001b[0m                 )\n\u001b[0;32m--> 311\u001b[0;31m             \u001b[0;32mreturn\u001b[0m \u001b[0mfunc\u001b[0m\u001b[0;34m(\u001b[0m\u001b[0;34m*\u001b[0m\u001b[0margs\u001b[0m\u001b[0;34m,\u001b[0m \u001b[0;34m**\u001b[0m\u001b[0mkwargs\u001b[0m\u001b[0;34m)\u001b[0m\u001b[0;34m\u001b[0m\u001b[0;34m\u001b[0m\u001b[0m\n\u001b[0m\u001b[1;32m    312\u001b[0m \u001b[0;34m\u001b[0m\u001b[0m\n\u001b[1;32m    313\u001b[0m         \u001b[0;32mreturn\u001b[0m \u001b[0mwrapper\u001b[0m\u001b[0;34m\u001b[0m\u001b[0;34m\u001b[0m\u001b[0m\n",
            "\u001b[0;32m/usr/local/lib/python3.7/dist-packages/pandas/io/parsers/readers.py\u001b[0m in \u001b[0;36mread_csv\u001b[0;34m(filepath_or_buffer, sep, delimiter, header, names, index_col, usecols, squeeze, prefix, mangle_dupe_cols, dtype, engine, converters, true_values, false_values, skipinitialspace, skiprows, skipfooter, nrows, na_values, keep_default_na, na_filter, verbose, skip_blank_lines, parse_dates, infer_datetime_format, keep_date_col, date_parser, dayfirst, cache_dates, iterator, chunksize, compression, thousands, decimal, lineterminator, quotechar, quoting, doublequote, escapechar, comment, encoding, encoding_errors, dialect, error_bad_lines, warn_bad_lines, on_bad_lines, delim_whitespace, low_memory, memory_map, float_precision, storage_options)\u001b[0m\n\u001b[1;32m    584\u001b[0m     \u001b[0mkwds\u001b[0m\u001b[0;34m.\u001b[0m\u001b[0mupdate\u001b[0m\u001b[0;34m(\u001b[0m\u001b[0mkwds_defaults\u001b[0m\u001b[0;34m)\u001b[0m\u001b[0;34m\u001b[0m\u001b[0;34m\u001b[0m\u001b[0m\n\u001b[1;32m    585\u001b[0m \u001b[0;34m\u001b[0m\u001b[0m\n\u001b[0;32m--> 586\u001b[0;31m     \u001b[0;32mreturn\u001b[0m \u001b[0m_read\u001b[0m\u001b[0;34m(\u001b[0m\u001b[0mfilepath_or_buffer\u001b[0m\u001b[0;34m,\u001b[0m \u001b[0mkwds\u001b[0m\u001b[0;34m)\u001b[0m\u001b[0;34m\u001b[0m\u001b[0;34m\u001b[0m\u001b[0m\n\u001b[0m\u001b[1;32m    587\u001b[0m \u001b[0;34m\u001b[0m\u001b[0m\n\u001b[1;32m    588\u001b[0m \u001b[0;34m\u001b[0m\u001b[0m\n",
            "\u001b[0;32m/usr/local/lib/python3.7/dist-packages/pandas/io/parsers/readers.py\u001b[0m in \u001b[0;36m_read\u001b[0;34m(filepath_or_buffer, kwds)\u001b[0m\n\u001b[1;32m    480\u001b[0m \u001b[0;34m\u001b[0m\u001b[0m\n\u001b[1;32m    481\u001b[0m     \u001b[0;31m# Create the parser.\u001b[0m\u001b[0;34m\u001b[0m\u001b[0;34m\u001b[0m\u001b[0;34m\u001b[0m\u001b[0m\n\u001b[0;32m--> 482\u001b[0;31m     \u001b[0mparser\u001b[0m \u001b[0;34m=\u001b[0m \u001b[0mTextFileReader\u001b[0m\u001b[0;34m(\u001b[0m\u001b[0mfilepath_or_buffer\u001b[0m\u001b[0;34m,\u001b[0m \u001b[0;34m**\u001b[0m\u001b[0mkwds\u001b[0m\u001b[0;34m)\u001b[0m\u001b[0;34m\u001b[0m\u001b[0;34m\u001b[0m\u001b[0m\n\u001b[0m\u001b[1;32m    483\u001b[0m \u001b[0;34m\u001b[0m\u001b[0m\n\u001b[1;32m    484\u001b[0m     \u001b[0;32mif\u001b[0m \u001b[0mchunksize\u001b[0m \u001b[0;32mor\u001b[0m \u001b[0miterator\u001b[0m\u001b[0;34m:\u001b[0m\u001b[0;34m\u001b[0m\u001b[0;34m\u001b[0m\u001b[0m\n",
            "\u001b[0;32m/usr/local/lib/python3.7/dist-packages/pandas/io/parsers/readers.py\u001b[0m in \u001b[0;36m__init__\u001b[0;34m(self, f, engine, **kwds)\u001b[0m\n\u001b[1;32m    809\u001b[0m             \u001b[0mself\u001b[0m\u001b[0;34m.\u001b[0m\u001b[0moptions\u001b[0m\u001b[0;34m[\u001b[0m\u001b[0;34m\"has_index_names\"\u001b[0m\u001b[0;34m]\u001b[0m \u001b[0;34m=\u001b[0m \u001b[0mkwds\u001b[0m\u001b[0;34m[\u001b[0m\u001b[0;34m\"has_index_names\"\u001b[0m\u001b[0;34m]\u001b[0m\u001b[0;34m\u001b[0m\u001b[0;34m\u001b[0m\u001b[0m\n\u001b[1;32m    810\u001b[0m \u001b[0;34m\u001b[0m\u001b[0m\n\u001b[0;32m--> 811\u001b[0;31m         \u001b[0mself\u001b[0m\u001b[0;34m.\u001b[0m\u001b[0m_engine\u001b[0m \u001b[0;34m=\u001b[0m \u001b[0mself\u001b[0m\u001b[0;34m.\u001b[0m\u001b[0m_make_engine\u001b[0m\u001b[0;34m(\u001b[0m\u001b[0mself\u001b[0m\u001b[0;34m.\u001b[0m\u001b[0mengine\u001b[0m\u001b[0;34m)\u001b[0m\u001b[0;34m\u001b[0m\u001b[0;34m\u001b[0m\u001b[0m\n\u001b[0m\u001b[1;32m    812\u001b[0m \u001b[0;34m\u001b[0m\u001b[0m\n\u001b[1;32m    813\u001b[0m     \u001b[0;32mdef\u001b[0m \u001b[0mclose\u001b[0m\u001b[0;34m(\u001b[0m\u001b[0mself\u001b[0m\u001b[0;34m)\u001b[0m\u001b[0;34m:\u001b[0m\u001b[0;34m\u001b[0m\u001b[0;34m\u001b[0m\u001b[0m\n",
            "\u001b[0;32m/usr/local/lib/python3.7/dist-packages/pandas/io/parsers/readers.py\u001b[0m in \u001b[0;36m_make_engine\u001b[0;34m(self, engine)\u001b[0m\n\u001b[1;32m   1038\u001b[0m             )\n\u001b[1;32m   1039\u001b[0m         \u001b[0;31m# error: Too many arguments for \"ParserBase\"\u001b[0m\u001b[0;34m\u001b[0m\u001b[0;34m\u001b[0m\u001b[0;34m\u001b[0m\u001b[0m\n\u001b[0;32m-> 1040\u001b[0;31m         \u001b[0;32mreturn\u001b[0m \u001b[0mmapping\u001b[0m\u001b[0;34m[\u001b[0m\u001b[0mengine\u001b[0m\u001b[0;34m]\u001b[0m\u001b[0;34m(\u001b[0m\u001b[0mself\u001b[0m\u001b[0;34m.\u001b[0m\u001b[0mf\u001b[0m\u001b[0;34m,\u001b[0m \u001b[0;34m**\u001b[0m\u001b[0mself\u001b[0m\u001b[0;34m.\u001b[0m\u001b[0moptions\u001b[0m\u001b[0;34m)\u001b[0m  \u001b[0;31m# type: ignore[call-arg]\u001b[0m\u001b[0;34m\u001b[0m\u001b[0;34m\u001b[0m\u001b[0m\n\u001b[0m\u001b[1;32m   1041\u001b[0m \u001b[0;34m\u001b[0m\u001b[0m\n\u001b[1;32m   1042\u001b[0m     \u001b[0;32mdef\u001b[0m \u001b[0m_failover_to_python\u001b[0m\u001b[0;34m(\u001b[0m\u001b[0mself\u001b[0m\u001b[0;34m)\u001b[0m\u001b[0;34m:\u001b[0m\u001b[0;34m\u001b[0m\u001b[0;34m\u001b[0m\u001b[0m\n",
            "\u001b[0;32m/usr/local/lib/python3.7/dist-packages/pandas/io/parsers/c_parser_wrapper.py\u001b[0m in \u001b[0;36m__init__\u001b[0;34m(self, src, **kwds)\u001b[0m\n\u001b[1;32m     49\u001b[0m \u001b[0;34m\u001b[0m\u001b[0m\n\u001b[1;32m     50\u001b[0m         \u001b[0;31m# open handles\u001b[0m\u001b[0;34m\u001b[0m\u001b[0;34m\u001b[0m\u001b[0;34m\u001b[0m\u001b[0m\n\u001b[0;32m---> 51\u001b[0;31m         \u001b[0mself\u001b[0m\u001b[0;34m.\u001b[0m\u001b[0m_open_handles\u001b[0m\u001b[0;34m(\u001b[0m\u001b[0msrc\u001b[0m\u001b[0;34m,\u001b[0m \u001b[0mkwds\u001b[0m\u001b[0;34m)\u001b[0m\u001b[0;34m\u001b[0m\u001b[0;34m\u001b[0m\u001b[0m\n\u001b[0m\u001b[1;32m     52\u001b[0m         \u001b[0;32massert\u001b[0m \u001b[0mself\u001b[0m\u001b[0;34m.\u001b[0m\u001b[0mhandles\u001b[0m \u001b[0;32mis\u001b[0m \u001b[0;32mnot\u001b[0m \u001b[0;32mNone\u001b[0m\u001b[0;34m\u001b[0m\u001b[0;34m\u001b[0m\u001b[0m\n\u001b[1;32m     53\u001b[0m \u001b[0;34m\u001b[0m\u001b[0m\n",
            "\u001b[0;32m/usr/local/lib/python3.7/dist-packages/pandas/io/parsers/base_parser.py\u001b[0m in \u001b[0;36m_open_handles\u001b[0;34m(self, src, kwds)\u001b[0m\n\u001b[1;32m    227\u001b[0m             \u001b[0mmemory_map\u001b[0m\u001b[0;34m=\u001b[0m\u001b[0mkwds\u001b[0m\u001b[0;34m.\u001b[0m\u001b[0mget\u001b[0m\u001b[0;34m(\u001b[0m\u001b[0;34m\"memory_map\"\u001b[0m\u001b[0;34m,\u001b[0m \u001b[0;32mFalse\u001b[0m\u001b[0;34m)\u001b[0m\u001b[0;34m,\u001b[0m\u001b[0;34m\u001b[0m\u001b[0;34m\u001b[0m\u001b[0m\n\u001b[1;32m    228\u001b[0m             \u001b[0mstorage_options\u001b[0m\u001b[0;34m=\u001b[0m\u001b[0mkwds\u001b[0m\u001b[0;34m.\u001b[0m\u001b[0mget\u001b[0m\u001b[0;34m(\u001b[0m\u001b[0;34m\"storage_options\"\u001b[0m\u001b[0;34m,\u001b[0m \u001b[0;32mNone\u001b[0m\u001b[0;34m)\u001b[0m\u001b[0;34m,\u001b[0m\u001b[0;34m\u001b[0m\u001b[0;34m\u001b[0m\u001b[0m\n\u001b[0;32m--> 229\u001b[0;31m             \u001b[0merrors\u001b[0m\u001b[0;34m=\u001b[0m\u001b[0mkwds\u001b[0m\u001b[0;34m.\u001b[0m\u001b[0mget\u001b[0m\u001b[0;34m(\u001b[0m\u001b[0;34m\"encoding_errors\"\u001b[0m\u001b[0;34m,\u001b[0m \u001b[0;34m\"strict\"\u001b[0m\u001b[0;34m)\u001b[0m\u001b[0;34m,\u001b[0m\u001b[0;34m\u001b[0m\u001b[0;34m\u001b[0m\u001b[0m\n\u001b[0m\u001b[1;32m    230\u001b[0m         )\n\u001b[1;32m    231\u001b[0m \u001b[0;34m\u001b[0m\u001b[0m\n",
            "\u001b[0;32m/usr/local/lib/python3.7/dist-packages/pandas/io/common.py\u001b[0m in \u001b[0;36mget_handle\u001b[0;34m(path_or_buf, mode, encoding, compression, memory_map, is_text, errors, storage_options)\u001b[0m\n\u001b[1;32m    705\u001b[0m                 \u001b[0mencoding\u001b[0m\u001b[0;34m=\u001b[0m\u001b[0mioargs\u001b[0m\u001b[0;34m.\u001b[0m\u001b[0mencoding\u001b[0m\u001b[0;34m,\u001b[0m\u001b[0;34m\u001b[0m\u001b[0;34m\u001b[0m\u001b[0m\n\u001b[1;32m    706\u001b[0m                 \u001b[0merrors\u001b[0m\u001b[0;34m=\u001b[0m\u001b[0merrors\u001b[0m\u001b[0;34m,\u001b[0m\u001b[0;34m\u001b[0m\u001b[0;34m\u001b[0m\u001b[0m\n\u001b[0;32m--> 707\u001b[0;31m                 \u001b[0mnewline\u001b[0m\u001b[0;34m=\u001b[0m\u001b[0;34m\"\"\u001b[0m\u001b[0;34m,\u001b[0m\u001b[0;34m\u001b[0m\u001b[0;34m\u001b[0m\u001b[0m\n\u001b[0m\u001b[1;32m    708\u001b[0m             )\n\u001b[1;32m    709\u001b[0m         \u001b[0;32melse\u001b[0m\u001b[0;34m:\u001b[0m\u001b[0;34m\u001b[0m\u001b[0;34m\u001b[0m\u001b[0m\n",
            "\u001b[0;31mFileNotFoundError\u001b[0m: [Errno 2] No such file or directory: 'student-mat.csv'"
          ]
        }
      ],
      "source": [
        "# load datasets for two subjects, Math and Portuguese\n",
        "mat = pd.read_csv(\"student-mat.csv\", sep=';')\n",
        "por = pd.read_csv(\"student-por.csv\", sep=';')"
      ]
    },
    {
      "cell_type": "markdown",
      "metadata": {
        "id": "NsuE1pPgaKUq"
      },
      "source": [
        "## 3. Data Preparation"
      ]
    },
    {
      "cell_type": "code",
      "execution_count": null,
      "metadata": {
        "collapsed": true,
        "id": "_Zju-oxmaKUq"
      },
      "outputs": [],
      "source": [
        "# merge datasets\n",
        "df = pd.concat([mat,por])"
      ]
    },
    {
      "cell_type": "code",
      "execution_count": null,
      "metadata": {
        "collapsed": true,
        "id": "CZNz7u5SaKUr"
      },
      "outputs": [],
      "source": [
        "# rename column labels\n",
        "df.columns = ['school','sex','age','address','family_size','parents_status','mother_education','father_education',\n",
        "           'mother_job','father_job','reason','guardian','commute_time','study_time','failures','school_support',\n",
        "          'family_support','paid_classes','activities','nursery','desire_higher_edu','internet','romantic','family_quality',\n",
        "          'free_time','go_out','weekday_alcohol_usage','weekend_alcohol_usage','health','absences','period1_score','period2_score','final_score']"
      ]
    },
    {
      "cell_type": "code",
      "execution_count": null,
      "metadata": {
        "id": "FIxc9YNtaKUs"
      },
      "outputs": [],
      "source": [
        "# convert final_score to categorical variable # Good:15~20 Fair:10~14 Poor:0~9\n",
        "df['final_grade'] = 'na'\n",
        "df.loc[(df.final_score >= 15) & (df.final_score <= 20), 'final_grade'] = 'good' \n",
        "df.loc[(df.final_score >= 10) & (df.final_score <= 14), 'final_grade'] = 'fair' \n",
        "df.loc[(df.final_score >= 0) & (df.final_score <= 9), 'final_grade'] = 'poor' \n",
        "df.head(5)"
      ]
    },
    {
      "cell_type": "markdown",
      "metadata": {
        "id": "qnOP3dBSaKUs"
      },
      "source": [
        "  # Let's have a look at the variables!"
      ]
    },
    {
      "cell_type": "code",
      "execution_count": null,
      "metadata": {
        "id": "8A-8oBG0aKUt"
      },
      "outputs": [],
      "source": [
        "# look for missing values\n",
        "df.isnull().any()"
      ]
    },
    {
      "cell_type": "markdown",
      "metadata": {
        "id": "CJqouG74aKUt"
      },
      "source": [
        "# *Yay! There is no missing values!*"
      ]
    },
    {
      "cell_type": "markdown",
      "metadata": {
        "id": "QYcAm5_caKUt"
      },
      "source": [
        "# 4. EDA"
      ]
    },
    {
      "cell_type": "markdown",
      "metadata": {
        "id": "RV_wt13gaKUu"
      },
      "source": [
        "### 4.1 Final Grade Distribution"
      ]
    },
    {
      "cell_type": "code",
      "execution_count": null,
      "metadata": {
        "id": "fGThZfxzaKUv"
      },
      "outputs": [],
      "source": [
        "# Final Grade Countplot\n",
        "plt.figure(figsize=(8,6))\n",
        "sns.countplot(df.final_grade, order=[\"poor\",\"fair\",\"good\"], palette='Set1')\n",
        "plt.title('Final Grade - Number of Students',fontsize=20)\n",
        "plt.xlabel('Final Grade', fontsize=16)\n",
        "plt.ylabel('Number of Student', fontsize=16)"
      ]
    },
    {
      "cell_type": "markdown",
      "metadata": {
        "id": "ATKncVGJaKUv"
      },
      "source": [
        "###        \n",
        "\n",
        "-------------------------------------------------------------------------------------------------------------------------------"
      ]
    },
    {
      "cell_type": "markdown",
      "metadata": {
        "id": "GXK_K38daKUw"
      },
      "source": [
        "![4](https://user-images.githubusercontent.com/32555702/37250708-5e36dad4-24b7-11e8-84e8-304897e5c412.png)\n",
        "![3](https://user-images.githubusercontent.com/32555702/37250706-5dde1f2a-24b7-11e8-8f3a-67a81c22f247.JPG)"
      ]
    },
    {
      "cell_type": "markdown",
      "metadata": {
        "id": "ZQX7eq9CaKUy"
      },
      "source": [
        "\n",
        "\n",
        "\n",
        "\n",
        "________________________________________________________________________________________________________________________________\n"
      ]
    },
    {
      "cell_type": "markdown",
      "metadata": {
        "id": "RtbppirAaKUz"
      },
      "source": [
        "### 4.2 Correlation Heatmap"
      ]
    },
    {
      "cell_type": "code",
      "execution_count": null,
      "metadata": {
        "id": "KoKKHVymaKUz"
      },
      "outputs": [],
      "source": [
        "# see correlation between variables through a correlation heatmap\n",
        "corr = df.corr()\n",
        "plt.figure(figsize=(10,10))\n",
        "sns.heatmap(corr, annot=True, cmap=\"Reds\")\n",
        "plt.title('Correlation Heatmap', fontsize=20)"
      ]
    },
    {
      "cell_type": "markdown",
      "metadata": {
        "collapsed": true,
        "id": "2fF_tBfbaKU0"
      },
      "source": [
        "![5](https://user-images.githubusercontent.com/32555702/37250709-5e535efc-24b7-11e8-97f6-48d2c084c42e.JPG)"
      ]
    },
    {
      "cell_type": "markdown",
      "metadata": {
        "id": "3YlCgQGVaKU1"
      },
      "source": [
        "### 4.3 Final Grade By Romantic Status\n",
        "see how students in a romantic relationship vs. those not in a relationship perform "
      ]
    },
    {
      "cell_type": "code",
      "execution_count": null,
      "metadata": {
        "collapsed": true,
        "id": "lg3a2X7raKU1"
      },
      "outputs": [],
      "source": [
        "# romantic status\n",
        "perc = (lambda col: col/col.sum())\n",
        "index = ['poor','fair','good']\n",
        "romance_tab1 = pd.crosstab(index=df.final_grade, columns=df.romantic)\n",
        "romance_tab = np.log(romance_tab1)\n",
        "romance_perc = romance_tab.apply(perc).reindex(index)"
      ]
    },
    {
      "cell_type": "code",
      "execution_count": null,
      "metadata": {
        "id": "wnnezOdJaKU3"
      },
      "outputs": [],
      "source": [
        "plt.figure()\n",
        "romance_perc.plot.bar(colormap=\"PiYG_r\", fontsize=16, figsize=(8,8))\n",
        "plt.title('Final Grade By Romantic Status', fontsize=20)\n",
        "plt.ylabel('Percentage of Logarithm Student Counts ', fontsize=16)\n",
        "plt.xlabel('Final Grade', fontsize=16)\n",
        "plt.show()"
      ]
    },
    {
      "cell_type": "markdown",
      "metadata": {
        "id": "PD-qhpPoaKU4"
      },
      "source": [
        "# Hyphothesis Testing confirmed, romantic status has a significant correlation with final grade."
      ]
    },
    {
      "cell_type": "code",
      "execution_count": null,
      "metadata": {
        "id": "v0tM-YLkaKU4"
      },
      "outputs": [],
      "source": [
        "# chi-square test result -- significant!\n",
        "import statsmodels.api as sm\n",
        "romance_table = sm.stats.Table(romance_tab1)\n",
        "romance_rslt = romance_table.test_nominal_association()\n",
        "romance_rslt.pvalue"
      ]
    },
    {
      "cell_type": "markdown",
      "metadata": {
        "id": "PtLtAH0PaKU5"
      },
      "source": [
        "![6](https://user-images.githubusercontent.com/32555702/37250710-5f1cc6b6-24b7-11e8-9d25-66cfde267d22.JPG)"
      ]
    },
    {
      "cell_type": "markdown",
      "metadata": {
        "id": "agTomVgKaKU5"
      },
      "source": [
        "### 4.4 Final Grade By Alcohol Consumption\n",
        "See how alcohol consumption influences students' final grade"
      ]
    },
    {
      "cell_type": "markdown",
      "metadata": {
        "id": "qZirMvF7aKU6"
      },
      "source": [
        "![7](https://user-images.githubusercontent.com/32555702/37250711-5f632e80-24b7-11e8-886a-baf51f41fa45.JPG)"
      ]
    },
    {
      "cell_type": "markdown",
      "metadata": {
        "id": "YxEadJyDaKU6"
      },
      "source": [
        "![8.JPG](attachment:8.JPG)"
      ]
    },
    {
      "cell_type": "code",
      "execution_count": null,
      "metadata": {
        "collapsed": true,
        "id": "dls4DS_eaKU6"
      },
      "outputs": [],
      "source": [
        "# weekend alcohol consumption\n",
        "alc_tab1 = pd.crosstab(index=df.final_grade, columns=df.weekend_alcohol_usage)\n",
        "alc_tab = np.log(alc_tab1)\n",
        "alc_perc = alc_tab.apply(perc).reindex(index)"
      ]
    },
    {
      "cell_type": "code",
      "execution_count": null,
      "metadata": {
        "id": "kMQiKVAhaKU7"
      },
      "outputs": [],
      "source": [
        "# create good student dataframe\n",
        "good = df.loc[df.final_grade == 'good']\n",
        "good['good_alcohol_usage']=good.weekend_alcohol_usage\n",
        "# create poor student dataframe\n",
        "poor = df.loc[df.final_grade == 'poor']\n",
        "poor['poor_alcohol_usage']=poor.weekend_alcohol_usage\n",
        "\n",
        "plt.figure(figsize=(10,6))\n",
        "p1=sns.kdeplot(good['good_alcohol_usage'], shade=True, color=\"r\")\n",
        "p1=sns.kdeplot(poor['poor_alcohol_usage'], shade=True, color=\"b\")\n",
        "plt.title('Good Performance vs. Poor Performance Student Weekend Alcohol Consumption', fontsize=20)\n",
        "plt.ylabel('Density', fontsize=16)\n",
        "plt.xlabel('Level of Alcohol Consumption', fontsize=16)"
      ]
    },
    {
      "cell_type": "code",
      "execution_count": null,
      "metadata": {
        "id": "TjmFasY5aKU7"
      },
      "outputs": [],
      "source": [
        "alc_perc.plot.bar(colormap=\"Reds\", figsize=(10,8), fontsize=16)\n",
        "plt.title('Final Grade By Weekend Alcohol Consumption', fontsize=20)\n",
        "plt.ylabel('Percentage of Logarithm Student Counts', fontsize=16)\n",
        "plt.xlabel('Final Grade', fontsize=16)"
      ]
    },
    {
      "cell_type": "markdown",
      "metadata": {
        "id": "rheFx3tlaKU8"
      },
      "source": [
        "# Hyphothesis Testing confirmed, weekend alcohol consumption has a significant correlation with final grade."
      ]
    },
    {
      "cell_type": "code",
      "execution_count": null,
      "metadata": {
        "id": "xehkhCt5aKU9"
      },
      "outputs": [],
      "source": [
        "# chi-square test result -- significant!\n",
        "import statsmodels.api as sm\n",
        "alc_table = sm.stats.Table(alc_tab1)\n",
        "alc_rslt = alc_table.test_nominal_association()\n",
        "alc_rslt.pvalue"
      ]
    },
    {
      "cell_type": "markdown",
      "metadata": {
        "id": "_YoRCJBpaKU9"
      },
      "source": [
        "![9](https://user-images.githubusercontent.com/32555702/37250713-5fe38828-24b7-11e8-860a-99b293fceb1f.JPG)"
      ]
    },
    {
      "cell_type": "markdown",
      "metadata": {
        "id": "d0FP2ymIaKU-"
      },
      "source": [
        "### 4.5 Final Grade By Parents Education Level\n",
        "see how parents' education level influence student performance"
      ]
    },
    {
      "cell_type": "markdown",
      "metadata": {
        "id": "QG0LqSCjaKU-"
      },
      "source": [
        "![14](https://user-images.githubusercontent.com/32555702/37250799-4a17cef8-24b9-11e8-8ef7-1c1529d4ecfb.JPG)"
      ]
    },
    {
      "cell_type": "code",
      "execution_count": null,
      "metadata": {
        "id": "UHKBj5nWaKU-"
      },
      "outputs": [],
      "source": [
        "good['good_student_father_education'] = good.father_education\n",
        "poor['poor_student_father_education'] = poor.father_education\n",
        "good['good_student_mother_education'] = good.mother_education\n",
        "poor['poor_student_mother_education'] = poor.mother_education"
      ]
    },
    {
      "cell_type": "code",
      "execution_count": null,
      "metadata": {
        "id": "SZBKyvUpaKU_"
      },
      "outputs": [],
      "source": [
        "# see the difference between good and poor performers' father education level(numeric: from 1 - very low to 5 - very high)\n",
        "plt.figure(figsize=(6,4))\n",
        "p2=sns.kdeplot(good['good_student_father_education'], shade=True, color=\"r\")\n",
        "p2=sns.kdeplot(poor['poor_student_father_education'], shade=True, color=\"b\")\n",
        "plt.xlabel('Father Education Level', fontsize=20)"
      ]
    },
    {
      "cell_type": "code",
      "execution_count": null,
      "metadata": {
        "id": "rrhGYm5_aKU_"
      },
      "outputs": [],
      "source": [
        "# see the difference between good and poor performers' mother education level(numeric: from 1 - very low to 5 - very high)\n",
        "plt.figure(figsize=(6,4))\n",
        "p3=sns.kdeplot(good['good_student_mother_education'], shade=True, color=\"r\")\n",
        "p3=sns.kdeplot(poor['poor_student_mother_education'], shade=True, color=\"b\")\n",
        "plt.xlabel('Mother Education Level', fontsize=20)"
      ]
    },
    {
      "cell_type": "markdown",
      "metadata": {
        "id": "cysA-0IlaKU_"
      },
      "source": [
        "# OLS tells that parents' education level has a positive correlation with students' final score. Comparatively, mother's education level has bigger influence than father's education level!"
      ]
    },
    {
      "cell_type": "code",
      "execution_count": null,
      "metadata": {
        "id": "ABEpMfhsaKVA"
      },
      "outputs": [],
      "source": [
        "# use OLS to see coefficients\n",
        "X_edu = df[['mother_education','father_education']]\n",
        "y_edu = df.final_score\n",
        "edu = sm.OLS(y_edu, X_edu)\n",
        "results_edu = edu.fit()\n",
        "results_edu.summary()"
      ]
    },
    {
      "cell_type": "markdown",
      "metadata": {
        "collapsed": true,
        "id": "ScuodUjWaKVA"
      },
      "source": [
        "![10](https://user-images.githubusercontent.com/32555702/37250714-6019f084-24b7-11e8-8f47-1b0a5ec046b8.JPG)"
      ]
    },
    {
      "cell_type": "markdown",
      "metadata": {
        "id": "LwyoghCOaKVJ"
      },
      "source": [
        "### 4.6 Final Grade By Frequency Of Going Out\n",
        "See how frequency of goig out with friend influence students' final performance"
      ]
    },
    {
      "cell_type": "markdown",
      "metadata": {
        "id": "eP5xvtOIaKVK"
      },
      "source": [
        "![11](https://user-images.githubusercontent.com/32555702/37250715-605453d2-24b7-11e8-8af9-54f94739f8e5.JPG)"
      ]
    },
    {
      "cell_type": "code",
      "execution_count": null,
      "metadata": {
        "id": "E794n50paKVK"
      },
      "outputs": [],
      "source": [
        "# going out with friends (numeric: from 1 - very low to 5 - very high)\n",
        "plt.figure(figsize=(6,10))\n",
        "sns.boxplot(x='go_out', y='final_score', data=df, palette='hot')\n",
        "plt.title('Final Grade By Frequency of Going Out', fontsize=20)\n",
        "plt.ylabel('Final Score', fontsize=16)\n",
        "plt.xlabel('Frequency of Going Out', fontsize=16)"
      ]
    },
    {
      "cell_type": "code",
      "execution_count": null,
      "metadata": {
        "id": "oethNrXTaKVK"
      },
      "outputs": [],
      "source": [
        "out_tab = pd.crosstab(index=df.final_grade, columns=df.go_out)\n",
        "out_perc = out_tab.apply(perc).reindex(index)\n",
        "\n",
        "out_perc.plot.bar(colormap=\"mako_r\", fontsize=16, figsize=(14,6))\n",
        "plt.title('Final Grade By Frequency of Going Out', fontsize=20)\n",
        "plt.ylabel('Percentage of Student', fontsize=16)\n",
        "plt.xlabel('Final Grade', fontsize=16)"
      ]
    },
    {
      "cell_type": "markdown",
      "metadata": {
        "id": "tOnfJmVaaKVL"
      },
      "source": [
        "# Hyphothesis Testing confirmed, the frequency of going out with friends has a significant correlation with students' final performance."
      ]
    },
    {
      "cell_type": "code",
      "execution_count": null,
      "metadata": {
        "id": "02RhmonJaKVL"
      },
      "outputs": [],
      "source": [
        "# chi-square test result -- significant!\n",
        "out_table = sm.stats.Table(out_tab)\n",
        "out_rslt = out_table.test_nominal_association()\n",
        "out_rslt.pvalue"
      ]
    },
    {
      "cell_type": "markdown",
      "metadata": {
        "id": "wQfUyVtgaKVL"
      },
      "source": [
        "![12](https://user-images.githubusercontent.com/32555702/37250716-60c5d2a0-24b7-11e8-8422-c10374e02553.JPG)"
      ]
    },
    {
      "cell_type": "markdown",
      "metadata": {
        "id": "NSqHBtwwaKVM"
      },
      "source": [
        "### 4.7 Final Grade By Desire To Go To College\n",
        "see how desire to go to college influence student final performance"
      ]
    },
    {
      "cell_type": "markdown",
      "metadata": {
        "id": "uSsZ4mAEaKVM"
      },
      "source": [
        "![13](https://user-images.githubusercontent.com/32555702/37250717-60fc7e68-24b7-11e8-8595-c6582ef598f3.JPG)"
      ]
    },
    {
      "cell_type": "code",
      "execution_count": null,
      "metadata": {
        "id": "qAl9O9rVaKVM"
      },
      "outputs": [],
      "source": [
        "# Desire for higher education and study time by age \n",
        "plt.figure(figsize=(12,8))\n",
        "sns.violinplot(x='age', y='study_time', hue='desire_higher_edu', data=df, palette=\"Accent_r\", ylim=(1,6))\n",
        "plt.title('Distribution Of Study Time By Age & Desire To Receive Higher Education', fontsize=20)\n",
        "plt.ylabel('Study Time', fontsize=16)\n",
        "plt.xlabel('Age', fontsize=16)"
      ]
    },
    {
      "cell_type": "code",
      "execution_count": null,
      "metadata": {
        "collapsed": true,
        "id": "RqcZIdcHaKVM"
      },
      "outputs": [],
      "source": [
        "higher_tab = pd.crosstab(index=df.final_grade, columns=df.desire_higher_edu)\n",
        "higher_perc = higher_tab.apply(perc).reindex(index)"
      ]
    },
    {
      "cell_type": "code",
      "execution_count": null,
      "metadata": {
        "id": "Z1uGMwFGaKVN"
      },
      "outputs": [],
      "source": [
        "higher_perc.plot.bar(colormap=\"Vega20_r\", figsize=(14,6), fontsize=16)\n",
        "plt.title('Final Grade By Desire to Receive Higher Education', fontsize=20)\n",
        "plt.xlabel('Final Grade', fontsize=16)\n",
        "plt.ylabel('Percentage of Student', fontsize=16)"
      ]
    },
    {
      "cell_type": "markdown",
      "metadata": {
        "id": "KBA2n8ZIaKVN"
      },
      "source": [
        "# Hyphothesis Testing confirmed, the desire of going to college has a significant correlation with students' final performance."
      ]
    },
    {
      "cell_type": "code",
      "execution_count": null,
      "metadata": {
        "id": "dKNNdnjEaKVN"
      },
      "outputs": [],
      "source": [
        "# chi-square test result -- significant!\n",
        "import statsmodels.api as sm\n",
        "higher_table = sm.stats.Table(higher_tab)\n",
        "higher_rslt = higher_table.test_nominal_association()\n",
        "higher_rslt.pvalue"
      ]
    },
    {
      "cell_type": "markdown",
      "metadata": {
        "id": "LH_4PMk0aKVN"
      },
      "source": [
        "![15](https://user-images.githubusercontent.com/32555702/37250719-61a70cac-24b7-11e8-9c02-3268495f16be.JPG)"
      ]
    },
    {
      "cell_type": "markdown",
      "metadata": {
        "id": "SWZ5vZ05aKVO"
      },
      "source": [
        "### 4.8 Final Grade By Living Area\n",
        "see how the final performance difference between students living in the city and those living in rural areas"
      ]
    },
    {
      "cell_type": "markdown",
      "metadata": {
        "id": "haHc2vneaKVO"
      },
      "source": [
        "![16](https://user-images.githubusercontent.com/32555702/37250720-621b2682-24b7-11e8-86bd-3a0f8b54aec5.JPG)"
      ]
    },
    {
      "cell_type": "code",
      "execution_count": null,
      "metadata": {
        "collapsed": true,
        "id": "D3Qc42NdaKVO"
      },
      "outputs": [],
      "source": [
        "# living area: urban vs. rural\n",
        "df.address = df.address.map({'U':'Urban', 'R':'Rural'})"
      ]
    },
    {
      "cell_type": "code",
      "execution_count": null,
      "metadata": {
        "id": "LZJkaaUmaKVP"
      },
      "outputs": [],
      "source": [
        "plt.figure(figsize=(6,6))\n",
        "sns.countplot(df.address, palette='Vega20b_r')\n",
        "plt.title('Urban and Rural Students Count', fontsize=20)\n",
        "plt.xlabel('Living Area', fontsize=16)\n",
        "plt.ylabel('Number Of Students', fontsize=16)\n",
        "plt.show()"
      ]
    },
    {
      "cell_type": "code",
      "execution_count": null,
      "metadata": {
        "collapsed": true,
        "id": "0tmP9XowaKVP"
      },
      "outputs": [],
      "source": [
        "ad_tab1 = pd.crosstab(index=df.final_grade, columns=df.address)\n",
        "ad_tab = np.log(ad_tab1)\n",
        "ad_perc = ad_tab.apply(perc).reindex(index)"
      ]
    },
    {
      "cell_type": "code",
      "execution_count": null,
      "metadata": {
        "id": "1mpnFsydaKVP"
      },
      "outputs": [],
      "source": [
        "ad_perc.plot.bar(colormap=\"RdYlGn_r\", fontsize=16, figsize=(8,6))\n",
        "plt.title('Final Grade By Living Area', fontsize=20)\n",
        "plt.ylabel('Percentage of Logarithm Student#', fontsize=16)\n",
        "plt.xlabel('Final Grade', fontsize=16)"
      ]
    },
    {
      "cell_type": "markdown",
      "metadata": {
        "id": "K0qhROl5aKVQ"
      },
      "source": [
        "# Hyphothesis Testing confirmed, the frequency of going out with friends has a significant correlation with students' final performance."
      ]
    },
    {
      "cell_type": "code",
      "execution_count": null,
      "metadata": {
        "id": "54L0TRuNaKVQ"
      },
      "outputs": [],
      "source": [
        "# chi-square test result -- significant!\n",
        "ad_table = sm.stats.Table(ad_tab1)\n",
        "ad_rslt = ad_table.test_nominal_association()\n",
        "ad_rslt.pvalue"
      ]
    },
    {
      "cell_type": "markdown",
      "metadata": {
        "id": "Diw8vb6eaKVS"
      },
      "source": [
        "![17](https://user-images.githubusercontent.com/32555702/37250721-62532320-24b7-11e8-9757-359085d3af97.JPG)"
      ]
    },
    {
      "cell_type": "code",
      "execution_count": null,
      "metadata": {
        "collapsed": true,
        "id": "gjoiiiWRaKVT"
      },
      "outputs": [],
      "source": [
        "# explore other variables via OLS\n",
        "dfl = df.copy()\n",
        "X_ols = dfl.drop(['period1_score', 'period2_score', 'final_score','final_grade', 'failures','study_time','absences'], axis=1)\n",
        "X_ols = pd.get_dummies(X_ols)"
      ]
    },
    {
      "cell_type": "code",
      "execution_count": null,
      "metadata": {
        "collapsed": true,
        "id": "HrQ0DOlnaKVT"
      },
      "outputs": [],
      "source": [
        "mod = sm.OLS(df.final_score, X_ols)\n",
        "mod = mod.fit()"
      ]
    },
    {
      "cell_type": "markdown",
      "metadata": {
        "id": "mux0hv6caKVU"
      },
      "source": [
        "# 5. Classification\n",
        "### Use Students' Information To Predict Their Final Grade"
      ]
    },
    {
      "cell_type": "markdown",
      "metadata": {
        "id": "4VJlBQrDaKVV"
      },
      "source": [
        "### 5.1 Prepare Dataset for Modelling"
      ]
    },
    {
      "cell_type": "code",
      "execution_count": null,
      "metadata": {
        "collapsed": true,
        "id": "lz86U3zeaKVY"
      },
      "outputs": [],
      "source": [
        "# create dataframe dfd for classification\n",
        "dfd = df.copy()\n",
        "dfd = dfd.drop([ 'final_score'], axis=1)"
      ]
    },
    {
      "cell_type": "code",
      "execution_count": null,
      "metadata": {
        "collapsed": true,
        "id": "gG8mxzGvaKVZ"
      },
      "outputs": [],
      "source": [
        "# label encode final_grade\n",
        "from sklearn import preprocessing\n",
        "le = preprocessing.LabelEncoder()\n",
        "dfd.final_grade = le.fit_transform(dfd.final_grade)"
      ]
    },
    {
      "cell_type": "code",
      "execution_count": null,
      "metadata": {
        "id": "c8wwru5raKVa"
      },
      "outputs": [],
      "source": [
        "# dataset train_test_split\n",
        "from sklearn.cross_validation import train_test_split\n",
        "X = dfd.drop('final_grade',axis=1)\n",
        "y = dfd.final_grade\n",
        "X_train,X_test,y_train,y_test=train_test_split(X,y,test_size=0.3)"
      ]
    },
    {
      "cell_type": "code",
      "execution_count": null,
      "metadata": {
        "collapsed": true,
        "id": "-SDKZ2m6aKVa"
      },
      "outputs": [],
      "source": [
        "# get dummy varibles \n",
        "X_train = pd.get_dummies(X_train)\n",
        "X_test = pd.get_dummies(X_test)"
      ]
    },
    {
      "cell_type": "code",
      "execution_count": null,
      "metadata": {
        "id": "ZVXPeGwgaKVb"
      },
      "outputs": [],
      "source": [
        "# see total number of features\n",
        "len(list(X_train))"
      ]
    },
    {
      "cell_type": "markdown",
      "metadata": {
        "id": "nv5-8-fsaKVb"
      },
      "source": [
        "### 5.2 Decision Tree Classification"
      ]
    },
    {
      "cell_type": "code",
      "execution_count": null,
      "metadata": {
        "id": "1HYU5_q2aKVc"
      },
      "outputs": [],
      "source": [
        "# find the optimal # of minimum samples leaf\n",
        "from sklearn.tree import DecisionTreeClassifier\n",
        "\n",
        "msl=[]\n",
        "for i in range(1,58):\n",
        "    tree = DecisionTreeClassifier(min_samples_leaf=i)\n",
        "    t= tree.fit(X_train, y_train)\n",
        "    ts=t.score(X_test, y_test)\n",
        "    msl.append(ts)\n",
        "msl = pd.Series(msl)\n",
        "msl.where(msl==msl.max()).dropna()"
      ]
    },
    {
      "cell_type": "code",
      "execution_count": null,
      "metadata": {
        "id": "BI9ZJ3C9aKVc"
      },
      "outputs": [],
      "source": [
        "# final model\n",
        "tree = DecisionTreeClassifier(min_samples_leaf=17)\n",
        "t= tree.fit(X_train, y_train)\n",
        "print(\"Decisioin Tree Model Score\" , \":\" , t.score(X_train, y_train) , \",\" , \n",
        "      \"Cross Validation Score\" ,\":\" , t.score(X_test, y_test))"
      ]
    },
    {
      "cell_type": "markdown",
      "metadata": {
        "id": "kbSqACKVaKVd"
      },
      "source": [
        "### 5.3 Random Forest Classification"
      ]
    },
    {
      "cell_type": "code",
      "execution_count": null,
      "metadata": {
        "id": "jJPR4e7faKVe"
      },
      "outputs": [],
      "source": [
        "# find a good # of estimators\n",
        "from sklearn.ensemble import RandomForestClassifier\n",
        "\n",
        "ne=[]\n",
        "for i in range(1,58):\n",
        "    forest = RandomForestClassifier()\n",
        "    f = forest.fit(X_train, y_train)\n",
        "    fs = f.score(X_test, y_test)\n",
        "    ne.append(fs)\n",
        "ne = pd.Series(ne)\n",
        "ne.where(ne==ne.max()).dropna()"
      ]
    },
    {
      "cell_type": "code",
      "execution_count": null,
      "metadata": {
        "id": "SrVLJSZJaKVf"
      },
      "outputs": [],
      "source": [
        "# find a good # of min_samples_leaf\n",
        "from sklearn.ensemble import RandomForestClassifier\n",
        "\n",
        "ne=[]\n",
        "for i in range(1,58):\n",
        "    forest = RandomForestClassifier(n_estimators=36, min_samples_leaf=i)\n",
        "    f = forest.fit(X_train, y_train)\n",
        "    fs = f.score(X_test, y_test)\n",
        "    ne.append(fs)\n",
        "ne = pd.Series(ne)\n",
        "ne.where(ne==ne.max()).dropna()"
      ]
    },
    {
      "cell_type": "code",
      "execution_count": null,
      "metadata": {
        "id": "bfISB7cgaKVf"
      },
      "outputs": [],
      "source": [
        "# final model\n",
        "forest = RandomForestClassifier(n_estimators=36, min_samples_leaf=2)\n",
        "f = forest.fit(X_train, y_train)\n",
        "print(\"Raondom Forest Model Score\" , \":\" , f.score(X_train, y_train) , \",\" ,\n",
        "      \"Cross Validation Score\" ,\":\" , f.score(X_test, y_test))"
      ]
    },
    {
      "cell_type": "markdown",
      "metadata": {
        "id": "aBJZ7IaeaKVg"
      },
      "source": [
        "### 5.4 Support Vector Classification"
      ]
    },
    {
      "cell_type": "code",
      "execution_count": null,
      "metadata": {
        "id": "80adnjEAaKVh"
      },
      "outputs": [],
      "source": [
        "from sklearn.svm import SVC\n",
        "svc = SVC()\n",
        "s= svc.fit(X_train, y_train)\n",
        "print(\"SVC Model Score\" , \":\" , s.score(X_train, y_train) , \",\" ,\n",
        "      \"Cross Validation Score\" ,\":\" , s.score(X_test, y_test))"
      ]
    },
    {
      "cell_type": "markdown",
      "metadata": {
        "id": "6IvvV0yLaKVj"
      },
      "source": [
        "### 5.5 Logistic Regression"
      ]
    },
    {
      "cell_type": "code",
      "execution_count": null,
      "metadata": {
        "collapsed": true,
        "id": "8zv-yt-uaKVk"
      },
      "outputs": [],
      "source": [
        "from sklearn.linear_model import LogisticRegression\n",
        "lr = LogisticRegression(multi_class='multinomial', solver='newton-cg',fit_intercept=True)"
      ]
    },
    {
      "cell_type": "code",
      "execution_count": null,
      "metadata": {
        "id": "0Yvhl1vBaKVl"
      },
      "outputs": [],
      "source": [
        "# find optimal # of features to use in the model\n",
        "from sklearn.feature_selection import SelectKBest, chi2\n",
        "\n",
        "ks=[]\n",
        "for i in range(1,58):\n",
        "    sk = SelectKBest(chi2, k=i)\n",
        "    x_new = sk.fit_transform(X_train,y_train)\n",
        "    x_new_test=sk.fit_transform(X_test,y_test)\n",
        "    l = lr.fit(x_new, y_train)\n",
        "    ll = l.score(x_new_test, y_test)\n",
        "    ks.append(ll)  \n",
        "    \n",
        "ks = pd.Series(ks)\n",
        "ks = ks.reindex(list(range(1,58)))\n",
        "ks"
      ]
    },
    {
      "cell_type": "code",
      "execution_count": null,
      "metadata": {
        "collapsed": true,
        "id": "Qot1271UaKVm"
      },
      "outputs": [],
      "source": [
        ""
      ]
    },
    {
      "cell_type": "code",
      "execution_count": null,
      "metadata": {
        "id": "htpAIg2MaKVm"
      },
      "outputs": [],
      "source": [
        "plt.figure(figsize=(10,5))\n",
        "ks.plot.line()\n",
        "plt.title('Feature Selction', fontsize=20)\n",
        "plt.xlabel('Number of Feature Used', fontsize=16)\n",
        "plt.ylabel('Prediction Accuracy', fontsize=16)"
      ]
    },
    {
      "cell_type": "code",
      "execution_count": null,
      "metadata": {
        "id": "ACrb3wiFaKVn"
      },
      "outputs": [],
      "source": [
        "ks.where(ks==ks.max()).dropna()"
      ]
    },
    {
      "cell_type": "code",
      "execution_count": null,
      "metadata": {
        "id": "1r-xI9kCaKVn"
      },
      "outputs": [],
      "source": [
        "# final model\n",
        "sk = SelectKBest(chi2, k=8)\n",
        "x_new = sk.fit_transform(X_train,y_train)\n",
        "x_new_test=sk.fit_transform(X_test,y_test)\n",
        "lr = lr.fit(x_new, y_train)\n",
        "print(\"Logistic Regression Model Score\" , \":\" , lr.score(x_new, y_train) , \",\" ,\n",
        "      \"Cross Validation Score\" ,\":\" , lr.score(x_new_test, y_test))"
      ]
    },
    {
      "cell_type": "markdown",
      "metadata": {
        "id": "NHheL334aKVo"
      },
      "source": [
        "### 5.6 Ada Boost Classification"
      ]
    },
    {
      "cell_type": "code",
      "execution_count": null,
      "metadata": {
        "id": "pr_77I7TaKVo"
      },
      "outputs": [],
      "source": [
        "from sklearn.ensemble import AdaBoostClassifier\n",
        "ada = AdaBoostClassifier(n_estimators=2)\n",
        "af = ada.fit(X_train, y_train)\n",
        "print(\"Ada Boost Model Score\" , \":\" , af.score(X_train, y_train) , \",\" ,\n",
        "      \"Cross Validation Score\" ,\":\" , af.score(X_test, y_test))"
      ]
    },
    {
      "cell_type": "markdown",
      "metadata": {
        "id": "QRZC4fYPaKVo"
      },
      "source": [
        "### 5.7 Stochastic Gradient Descent Classification"
      ]
    },
    {
      "cell_type": "code",
      "execution_count": null,
      "metadata": {
        "id": "w2wxTxJUaKVo"
      },
      "outputs": [],
      "source": [
        "from sklearn.linear_model import SGDClassifier\n",
        "sgd = SGDClassifier()\n",
        "sf = sgd.fit(X_train, y_train)\n",
        "print(\"Stochastic Gradient Descent Model Score\" , \":\" , sf.score(X_train, y_train) , \",\" ,\n",
        "      \"Cross Validation Score\" ,\":\" , sf.score(X_test, y_test))"
      ]
    },
    {
      "cell_type": "markdown",
      "metadata": {
        "id": "m6hd-cXBaKVp"
      },
      "source": [
        "### 5.8 Model Selection\n",
        "Let's compare the performance of each model!"
      ]
    },
    {
      "cell_type": "markdown",
      "metadata": {
        "id": "A-WISAAraKVp"
      },
      "source": [
        "![18](https://user-images.githubusercontent.com/32555702/37250722-62c33d22-24b7-11e8-8612-9c6c9286cc33.JPG)"
      ]
    },
    {
      "cell_type": "markdown",
      "metadata": {
        "id": "Jp_vL93KaKVp"
      },
      "source": [
        "# 6. Summary"
      ]
    },
    {
      "cell_type": "markdown",
      "metadata": {
        "id": "c-QxR2MmaKVp"
      },
      "source": [
        "![19](https://user-images.githubusercontent.com/32555702/37250723-63347eec-24b7-11e8-8a26-083c00031fc4.JPG)"
      ]
    },
    {
      "cell_type": "markdown",
      "metadata": {
        "id": "jP5yv9YiaKVq"
      },
      "source": [
        "![2](https://user-images.githubusercontent.com/32555702/37250705-5dc447f8-24b7-11e8-93fd-201e68bfb4ee.JPG)"
      ]
    }
  ],
  "metadata": {
    "kernelspec": {
      "display_name": "Python 3",
      "language": "python",
      "name": "python3"
    },
    "language_info": {
      "codemirror_mode": {
        "name": "ipython",
        "version": 3
      },
      "file_extension": ".py",
      "mimetype": "text/x-python",
      "name": "python",
      "nbconvert_exporter": "python",
      "pygments_lexer": "ipython3",
      "version": "3.6.3"
    },
    "colab": {
      "name": "Student Performance Analysis and Classification.ipynb의 사본",
      "provenance": [],
      "include_colab_link": true
    }
  },
  "nbformat": 4,
  "nbformat_minor": 0
}